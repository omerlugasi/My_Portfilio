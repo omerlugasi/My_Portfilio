{
 "cells": [
  {
   "cell_type": "markdown",
   "metadata": {
    "application/vnd.databricks.v1+cell": {
     "cellMetadata": {
      "byteLimit": 2048000,
      "rowLimit": 10000
     },
     "inputWidgets": {},
     "nuid": "9bf6f18a-5511-453d-a283-4e3de2276f24",
     "showTitle": false,
     "tableResultSettingsMap": {},
     "title": ""
    }
   },
   "source": [
    "# Project 2 - Starter Notebook\n",
    "\n",
    "Please make sure your solution is divided into multiple code cells, explained clearly and properly, and most importantly, pretty.\n"
   ]
  },
  {
   "cell_type": "code",
   "execution_count": 0,
   "metadata": {
    "application/vnd.databricks.v1+cell": {
     "cellMetadata": {
      "byteLimit": 2048000,
      "rowLimit": 10000
     },
     "inputWidgets": {},
     "nuid": "d4dffdc6-9b10-4156-84e3-2aa633287766",
     "showTitle": false,
     "tableResultSettingsMap": {},
     "title": ""
    }
   },
   "outputs": [],
   "source": [
    "from pyspark.sql.types import *\n",
    "from pyspark.sql.functions import *\n",
    "import os,time\n",
    "from pyspark.sql import SparkSession\n",
    " \n",
    "spark = SparkSession.builder.appName(\"my_project_2\").getOrCreate()"
   ]
  },
  {
   "cell_type": "markdown",
   "metadata": {
    "application/vnd.databricks.v1+cell": {
     "cellMetadata": {
      "byteLimit": 2048000,
      "rowLimit": 10000
     },
     "inputWidgets": {},
     "nuid": "2c4ef082-3c15-445c-b5cf-bdcfecb5eb47",
     "showTitle": false,
     "tableResultSettingsMap": {},
     "title": ""
    }
   },
   "source": [
    "## Read Sub Demographic data"
   ]
  },
  {
   "cell_type": "code",
   "execution_count": 0,
   "metadata": {
    "application/vnd.databricks.v1+cell": {
     "cellMetadata": {
      "byteLimit": 2048000,
      "rowLimit": 10000
     },
     "inputWidgets": {},
     "nuid": "9ca687de-044e-4965-9866-2be25a8d6bde",
     "showTitle": false,
     "tableResultSettingsMap": {},
     "title": ""
    }
   },
   "outputs": [
    {
     "output_type": "stream",
     "name": "stdout",
     "output_type": "stream",
     "text": [
      "root\n |-- household_id: long (nullable = true)\n |-- household_size: integer (nullable = true)\n |-- num_adults: integer (nullable = true)\n |-- num_generations: integer (nullable = true)\n |-- marital_status: string (nullable = true)\n |-- race_code: string (nullable = true)\n |-- dwelling_type: string (nullable = true)\n |-- home_owner_status: string (nullable = true)\n |-- length_residence: integer (nullable = true)\n |-- home_market_value: double (nullable = true)\n |-- net_worth: double (nullable = true)\n |-- gender_individual: string (nullable = true)\n |-- education_highest: string (nullable = true)\n\n"
     ]
    },
    {
     "output_type": "display_data",
     "data": {
      "text/html": [
       "<style scoped>\n",
       "  .table-result-container {\n",
       "    max-height: 300px;\n",
       "    overflow: auto;\n",
       "  }\n",
       "  table, th, td {\n",
       "    border: 1px solid black;\n",
       "    border-collapse: collapse;\n",
       "  }\n",
       "  th, td {\n",
       "    padding: 5px;\n",
       "  }\n",
       "  th {\n",
       "    text-align: left;\n",
       "  }\n",
       "</style><div class='table-result-container'><table class='table-result'><thead style='background-color: white'><tr><th>household_id</th><th>household_size</th><th>num_adults</th><th>num_generations</th><th>marital_status</th><th>race_code</th><th>dwelling_type</th><th>home_owner_status</th><th>length_residence</th><th>home_market_value</th><th>net_worth</th><th>gender_individual</th><th>education_highest</th></tr></thead><tbody><tr><td>85</td><td>2</td><td>1</td><td>2</td><td>B</td><td>W</td><td>S</td><td>O</td><td>15</td><td>0.125</td><td>0.05</td><td>F</td><td>1</td></tr><tr><td>2073</td><td>1</td><td>1</td><td>2</td><td>M</td><td>H</td><td>S</td><td>O</td><td>15</td><td>0.15</td><td>0.1</td><td>F</td><td>1</td></tr><tr><td>2523</td><td>7</td><td>6</td><td>3</td><td>M</td><td>W</td><td>S</td><td>O</td><td>15</td><td>0.1</td><td>0.1</td><td>M</td><td>2</td></tr><tr><td>2717</td><td>3</td><td>2</td><td>2</td><td>S</td><td>W</td><td>S</td><td>O</td><td>11</td><td>0.125</td><td>0.2</td><td>M</td><td>3</td></tr><tr><td>3364</td><td>2</td><td>2</td><td>2</td><td>M</td><td>W</td><td>S</td><td>O</td><td>15</td><td>0.1</td><td>0.1</td><td>M</td><td>1</td></tr><tr><td>4046</td><td>4</td><td>3</td><td>3</td><td>M</td><td>W</td><td>S</td><td>O</td><td>6</td><td>0.075</td><td>0.05</td><td>F</td><td>1</td></tr><tr><td>4303</td><td>1</td><td>1</td><td>1</td><td>S</td><td>W</td><td>S</td><td>O</td><td>15</td><td>0.15</td><td>0.2</td><td>M</td><td>1</td></tr><tr><td>4559</td><td>3</td><td>2</td><td>2</td><td>S</td><td>W</td><td>S</td><td>O</td><td>12</td><td>0.175</td><td>0.2</td><td>F</td><td>2</td></tr><tr><td>5277</td><td>3</td><td>2</td><td>2</td><td>M</td><td>W</td><td>S</td><td>R</td><td>15</td><td>0.125</td><td>0.02</td><td>M</td><td>2</td></tr><tr><td>5440</td><td>1</td><td>1</td><td>1</td><td>S</td><td>W</td><td>S</td><td>O</td><td>8</td><td>0.225</td><td>0.2</td><td>F</td><td>1</td></tr></tbody></table></div>"
      ]
     },
     "metadata": {
      "application/vnd.databricks.v1+output": {
       "addedWidgets": {},
       "aggData": [],
       "aggError": "",
       "aggOverflow": false,
       "aggSchema": [],
       "aggSeriesLimitReached": false,
       "aggType": "",
       "arguments": {},
       "columnCustomDisplayInfos": {},
       "data": [
        [
         85,
         2,
         1,
         2,
         "B",
         "W",
         "S",
         "O",
         15,
         0.125,
         0.05,
         "F",
         "1"
        ],
        [
         2073,
         1,
         1,
         2,
         "M",
         "H",
         "S",
         "O",
         15,
         0.15,
         0.1,
         "F",
         "1"
        ],
        [
         2523,
         7,
         6,
         3,
         "M",
         "W",
         "S",
         "O",
         15,
         0.1,
         0.1,
         "M",
         "2"
        ],
        [
         2717,
         3,
         2,
         2,
         "S",
         "W",
         "S",
         "O",
         11,
         0.125,
         0.2,
         "M",
         "3"
        ],
        [
         3364,
         2,
         2,
         2,
         "M",
         "W",
         "S",
         "O",
         15,
         0.1,
         0.1,
         "M",
         "1"
        ],
        [
         4046,
         4,
         3,
         3,
         "M",
         "W",
         "S",
         "O",
         6,
         0.075,
         0.05,
         "F",
         "1"
        ],
        [
         4303,
         1,
         1,
         1,
         "S",
         "W",
         "S",
         "O",
         15,
         0.15,
         0.2,
         "M",
         "1"
        ],
        [
         4559,
         3,
         2,
         2,
         "S",
         "W",
         "S",
         "O",
         12,
         0.175,
         0.2,
         "F",
         "2"
        ],
        [
         5277,
         3,
         2,
         2,
         "M",
         "W",
         "S",
         "R",
         15,
         0.125,
         0.02,
         "M",
         "2"
        ],
        [
         5440,
         1,
         1,
         1,
         "S",
         "W",
         "S",
         "O",
         8,
         0.225,
         0.2,
         "F",
         "1"
        ]
       ],
       "datasetInfos": [],
       "dbfsResultPath": null,
       "isJsonSchema": true,
       "metadata": {},
       "overflow": false,
       "plotOptions": {
        "customPlotOptions": {},
        "displayType": "table",
        "pivotAggregation": null,
        "pivotColumns": null,
        "xColumns": null,
        "yColumns": null
       },
       "removedWidgets": [],
       "schema": [
        {
         "metadata": "{}",
         "name": "household_id",
         "type": "\"long\""
        },
        {
         "metadata": "{}",
         "name": "household_size",
         "type": "\"integer\""
        },
        {
         "metadata": "{}",
         "name": "num_adults",
         "type": "\"integer\""
        },
        {
         "metadata": "{}",
         "name": "num_generations",
         "type": "\"integer\""
        },
        {
         "metadata": "{}",
         "name": "marital_status",
         "type": "\"string\""
        },
        {
         "metadata": "{}",
         "name": "race_code",
         "type": "\"string\""
        },
        {
         "metadata": "{}",
         "name": "dwelling_type",
         "type": "\"string\""
        },
        {
         "metadata": "{}",
         "name": "home_owner_status",
         "type": "\"string\""
        },
        {
         "metadata": "{}",
         "name": "length_residence",
         "type": "\"integer\""
        },
        {
         "metadata": "{}",
         "name": "home_market_value",
         "type": "\"double\""
        },
        {
         "metadata": "{}",
         "name": "net_worth",
         "type": "\"double\""
        },
        {
         "metadata": "{}",
         "name": "gender_individual",
         "type": "\"string\""
        },
        {
         "metadata": "{}",
         "name": "education_highest",
         "type": "\"string\""
        }
       ],
       "type": "table"
      }
     },
     "output_type": "display_data"
    }
   ],
   "source": [
    "demographic_df = spark.read.parquet(\"dbfs:/FileStore/project_b_data/proj_B_demographic/\")\n",
    "demographic_df.printSchema()\n",
    "display(demographic_df.limit(10))"
   ]
  },
  {
   "cell_type": "markdown",
   "metadata": {
    "application/vnd.databricks.v1+cell": {
     "cellMetadata": {
      "byteLimit": 2048000,
      "rowLimit": 10000
     },
     "inputWidgets": {},
     "nuid": "52414b4f-3283-4a0a-81b3-71593e9a8c98",
     "showTitle": false,
     "tableResultSettingsMap": {},
     "title": ""
    }
   },
   "source": [
    "## Read Static Viewing Data"
   ]
  },
  {
   "cell_type": "code",
   "execution_count": 0,
   "metadata": {
    "application/vnd.databricks.v1+cell": {
     "cellMetadata": {
      "byteLimit": 2048000,
      "rowLimit": 10000
     },
     "inputWidgets": {},
     "nuid": "6694dd5d-7c68-40c4-9f15-1ae50b45c428",
     "showTitle": false,
     "tableResultSettingsMap": {},
     "title": ""
    }
   },
   "outputs": [
    {
     "output_type": "stream",
     "name": "stdout",
     "output_type": "stream",
     "text": [
      "root\n |-- device_id: string (nullable = true)\n |-- event_date: string (nullable = true)\n |-- event_time: string (nullable = true)\n |-- station_num: integer (nullable = true)\n |-- prog_code: string (nullable = true)\n |-- household_id: integer (nullable = true)\n\n"
     ]
    },
    {
     "output_type": "display_data",
     "data": {
      "text/html": [
       "<style scoped>\n",
       "  .table-result-container {\n",
       "    max-height: 300px;\n",
       "    overflow: auto;\n",
       "  }\n",
       "  table, th, td {\n",
       "    border: 1px solid black;\n",
       "    border-collapse: collapse;\n",
       "  }\n",
       "  th, td {\n",
       "    padding: 5px;\n",
       "  }\n",
       "  th {\n",
       "    text-align: left;\n",
       "  }\n",
       "</style><div class='table-result-container'><table class='table-result'><thead style='background-color: white'><tr><th>device_id</th><th>event_date</th><th>event_time</th><th>station_num</th><th>prog_code</th><th>household_id</th></tr></thead><tbody><tr><td>001bd74cc8d1</td><td>20150120</td><td>181338</td><td>75523</td><td>EP000009110053</td><td>3783713</td></tr><tr><td>10ea5940d694</td><td>20150120</td><td>181338</td><td>11218</td><td>MV001054110000</td><td>3787015</td></tr><tr><td>44e08ed80c35</td><td>20150120</td><td>181338</td><td>11713</td><td>SH004464010000</td><td>43921</td></tr><tr><td>0000048de4f2</td><td>20150120</td><td>181338</td><td>65626</td><td>MV000506130000</td><td>3672067</td></tr><tr><td>0000059867a7</td><td>20150120</td><td>181338</td><td>58812</td><td>EP019199930005</td><td>3645541</td></tr><tr><td>000011ff9ba9</td><td>20150120</td><td>181338</td><td>18510</td><td>EP010855880111</td><td>3642303</td></tr><tr><td>00000254e5f6</td><td>20150120</td><td>181338</td><td>35513</td><td>EP000369550087</td><td>3825751</td></tr><tr><td>000002bd8a47</td><td>20150120</td><td>181338</td><td>10035</td><td>EP013413450102</td><td>2971023</td></tr><tr><td>000003c4c597</td><td>20150120</td><td>181338</td><td>59337</td><td>MV000744670000</td><td>2358722</td></tr><tr><td>00407bba00fe</td><td>20150120</td><td>181338</td><td>14771</td><td>EP015899250028</td><td>2838674</td></tr></tbody></table></div>"
      ]
     },
     "metadata": {
      "application/vnd.databricks.v1+output": {
       "addedWidgets": {},
       "aggData": [],
       "aggError": "",
       "aggOverflow": false,
       "aggSchema": [],
       "aggSeriesLimitReached": false,
       "aggType": "",
       "arguments": {},
       "columnCustomDisplayInfos": {},
       "data": [
        [
         "001bd74cc8d1",
         "20150120",
         "181338",
         75523,
         "EP000009110053",
         3783713
        ],
        [
         "10ea5940d694",
         "20150120",
         "181338",
         11218,
         "MV001054110000",
         3787015
        ],
        [
         "44e08ed80c35",
         "20150120",
         "181338",
         11713,
         "SH004464010000",
         43921
        ],
        [
         "0000048de4f2",
         "20150120",
         "181338",
         65626,
         "MV000506130000",
         3672067
        ],
        [
         "0000059867a7",
         "20150120",
         "181338",
         58812,
         "EP019199930005",
         3645541
        ],
        [
         "000011ff9ba9",
         "20150120",
         "181338",
         18510,
         "EP010855880111",
         3642303
        ],
        [
         "00000254e5f6",
         "20150120",
         "181338",
         35513,
         "EP000369550087",
         3825751
        ],
        [
         "000002bd8a47",
         "20150120",
         "181338",
         10035,
         "EP013413450102",
         2971023
        ],
        [
         "000003c4c597",
         "20150120",
         "181338",
         59337,
         "MV000744670000",
         2358722
        ],
        [
         "00407bba00fe",
         "20150120",
         "181338",
         14771,
         "EP015899250028",
         2838674
        ]
       ],
       "datasetInfos": [],
       "dbfsResultPath": null,
       "isJsonSchema": true,
       "metadata": {},
       "overflow": false,
       "plotOptions": {
        "customPlotOptions": {},
        "displayType": "table",
        "pivotAggregation": null,
        "pivotColumns": null,
        "xColumns": null,
        "yColumns": null
       },
       "removedWidgets": [],
       "schema": [
        {
         "metadata": "{}",
         "name": "device_id",
         "type": "\"string\""
        },
        {
         "metadata": "{}",
         "name": "event_date",
         "type": "\"string\""
        },
        {
         "metadata": "{}",
         "name": "event_time",
         "type": "\"string\""
        },
        {
         "metadata": "{}",
         "name": "station_num",
         "type": "\"integer\""
        },
        {
         "metadata": "{}",
         "name": "prog_code",
         "type": "\"string\""
        },
        {
         "metadata": "{}",
         "name": "household_id",
         "type": "\"integer\""
        }
       ],
       "type": "table"
      }
     },
     "output_type": "display_data"
    }
   ],
   "source": [
    "schema = StructType([\n",
    "    StructField(\"device_id\", StringType(), True),\n",
    "    StructField(\"event_date\", StringType(), True),\n",
    "    StructField(\"event_time\", StringType(), True),     \n",
    "    StructField(\"station_num\", IntegerType(), True),\n",
    "    StructField(\"prog_code\", StringType(), True),\n",
    "    StructField(\"household_id\", IntegerType(), True)\n",
    "])\n",
    "\n",
    "viewing_static_df = spark.read.schema(schema).option(\"header\", True).csv(\"dbfs:/FileStore/project_b_data/viewing_static_csv/\")\n",
    "\n",
    "viewing_static_df.printSchema()\n",
    "display(viewing_static_df.limit(10))"
   ]
  },
  {
   "cell_type": "markdown",
   "metadata": {
    "application/vnd.databricks.v1+cell": {
     "cellMetadata": {
      "byteLimit": 2048000,
      "rowLimit": 10000
     },
     "inputWidgets": {},
     "nuid": "6c926b32-0694-4710-86f9-f3fa6f26a064",
     "showTitle": false,
     "tableResultSettingsMap": {},
     "title": ""
    }
   },
   "source": [
    "## Static Data Analysis (65 points)"
   ]
  },
  {
   "cell_type": "code",
   "execution_count": 0,
   "metadata": {
    "application/vnd.databricks.v1+cell": {
     "cellMetadata": {
      "byteLimit": 2048000,
      "rowLimit": 10000
     },
     "inputWidgets": {},
     "nuid": "d8cfd6c6-f4b1-4831-ac3d-2ae7d65f44f1",
     "showTitle": false,
     "tableResultSettingsMap": {},
     "title": ""
    }
   },
   "outputs": [],
   "source": [
    "import matplotlib.pyplot as plt\n",
    "from pyspark.sql import Window, DataFrame\n",
    "from pyspark.ml.feature import StringIndexer, OneHotEncoder, VectorAssembler, PCA\n",
    "from pyspark.ml.clustering import KMeans\n",
    "from pyspark.ml.linalg import Vectors, VectorUDT"
   ]
  },
  {
   "cell_type": "code",
   "execution_count": 0,
   "metadata": {
    "application/vnd.databricks.v1+cell": {
     "cellMetadata": {
      "byteLimit": 2048000,
      "rowLimit": 10000
     },
     "inputWidgets": {},
     "nuid": "c609c16e-cd09-4d65-937b-f368829b511c",
     "showTitle": false,
     "tableResultSettingsMap": {},
     "title": ""
    }
   },
   "outputs": [
    {
     "output_type": "execute_result",
     "data": {
      "text/plain": [
       "357721"
      ]
     },
     "execution_count": 5,
     "metadata": {},
     "output_type": "execute_result"
    }
   ],
   "source": [
    "viewing_static_df.cache()\n",
    "viewing_static_df.count()\n",
    "\n",
    "demographic_df.cache()\n",
    "demographic_df.count()"
   ]
  },
  {
   "cell_type": "markdown",
   "metadata": {
    "application/vnd.databricks.v1+cell": {
     "cellMetadata": {
      "byteLimit": 2048000,
      "rowLimit": 10000
     },
     "inputWidgets": {},
     "nuid": "c4a58974-4dfc-4be4-9c5d-cf35961fe7a9",
     "showTitle": false,
     "tableResultSettingsMap": {},
     "title": ""
    }
   },
   "source": [
    "### Feature Extraction"
   ]
  },
  {
   "cell_type": "code",
   "execution_count": 0,
   "metadata": {
    "application/vnd.databricks.v1+cell": {
     "cellMetadata": {
      "byteLimit": 2048000,
      "rowLimit": 10000
     },
     "inputWidgets": {},
     "nuid": "bac96aef-f4aa-497f-8141-58aa204b4c89",
     "showTitle": false,
     "tableResultSettingsMap": {},
     "title": ""
    }
   },
   "outputs": [
    {
     "output_type": "stream",
     "name": "stdout",
     "output_type": "stream",
     "text": [
      "\uD83C\uDFC3 View run rare-dog-609 at: https://adb-385435138940782.2.azuredatabricks.net/ml/experiments/2120248986648755/runs/ba3b1a25dbae4b4a859506dbd04c86bb\n\uD83E\uDDEA View experiment at: https://adb-385435138940782.2.azuredatabricks.net/ml/experiments/2120248986648755\n\uD83C\uDFC3 View run bright-fish-444 at: https://adb-385435138940782.2.azuredatabricks.net/ml/experiments/2120248986648755/runs/85d4c765dc0c43ba9cf43f1a32ea8fca\n\uD83E\uDDEA View experiment at: https://adb-385435138940782.2.azuredatabricks.net/ml/experiments/2120248986648755\n\uD83C\uDFC3 View run fearless-pig-604 at: https://adb-385435138940782.2.azuredatabricks.net/ml/experiments/2120248986648755/runs/8e3698a13ddd450e8123fc0a2d360049\n\uD83E\uDDEA View experiment at: https://adb-385435138940782.2.azuredatabricks.net/ml/experiments/2120248986648755\n\uD83C\uDFC3 View run selective-squid-374 at: https://adb-385435138940782.2.azuredatabricks.net/ml/experiments/2120248986648755/runs/baa3b84be280447d97367cc3c8f0ed78\n\uD83E\uDDEA View experiment at: https://adb-385435138940782.2.azuredatabricks.net/ml/experiments/2120248986648755\n\uD83C\uDFC3 View run valuable-moth-515 at: https://adb-385435138940782.2.azuredatabricks.net/ml/experiments/2120248986648755/runs/467f33b00a1b4790a1db32f846a85c38\n\uD83E\uDDEA View experiment at: https://adb-385435138940782.2.azuredatabricks.net/ml/experiments/2120248986648755\n\uD83C\uDFC3 View run able-bee-249 at: https://adb-385435138940782.2.azuredatabricks.net/ml/experiments/2120248986648755/runs/5e3ee837e493493e8dd9482b75d35664\n\uD83E\uDDEA View experiment at: https://adb-385435138940782.2.azuredatabricks.net/ml/experiments/2120248986648755\n\uD83C\uDFC3 View run flawless-mouse-451 at: https://adb-385435138940782.2.azuredatabricks.net/ml/experiments/2120248986648755/runs/08fa6c2337af4dd39b7f7d41508d7302\n\uD83E\uDDEA View experiment at: https://adb-385435138940782.2.azuredatabricks.net/ml/experiments/2120248986648755\n+------------+---------------------------------------------------------------------------------------------------------+\n|household_id|features                                                                                                 |\n+------------+---------------------------------------------------------------------------------------------------------+\n|85          |(18,[0,2,3,4,5,9,12,13,15],[0.125,0.5,1.0,0.12412412412412413,0.05,1.0,1.0,1.0,1.0])                     |\n|2073        |(18,[2,3,4,5,6,11,12,13,15],[0.5,1.0,0.14914914914914915,0.1,1.0,1.0,1.0,1.0,1.0])                       |\n|2523        |[0.75,1.0,1.0,1.0,0.0990990990990991,0.1,1.0,0.0,0.0,1.0,0.0,0.0,1.0,1.0,1.0,0.0,1.0,0.0]                |\n|2717        |[0.25,0.2,0.5,0.7333333333333333,0.12412412412412413,0.2,0.0,1.0,0.0,1.0,0.0,0.0,1.0,1.0,1.0,0.0,0.0,1.0]|\n|3364        |[0.125,0.2,0.5,1.0,0.0990990990990991,0.1,1.0,0.0,0.0,1.0,0.0,0.0,1.0,1.0,1.0,1.0,0.0,0.0]               |\n|4046        |[0.375,0.4,1.0,0.4,0.07407407407407407,0.05,1.0,0.0,0.0,1.0,0.0,0.0,1.0,1.0,0.0,1.0,0.0,0.0]             |\n|4303        |(18,[3,4,5,7,9,12,13,14,15],[1.0,0.14914914914914915,0.2,1.0,1.0,1.0,1.0,1.0,1.0])                       |\n+------------+---------------------------------------------------------------------------------------------------------+\nonly showing top 7 rows\n\n"
     ]
    }
   ],
   "source": [
    "# 1. Numerical columns and categorical columns\n",
    "numerical_cols = [\"household_size\", \"num_adults\", \"num_generations\", \"length_residence\", \"home_market_value\", \"net_worth\"]\n",
    "categorical_cols = [\"marital_status\", \"race_code\", \"dwelling_type\", \"home_owner_status\", \"gender_individual\", \"education_highest\"]\n",
    "\n",
    "# 2. Min-max scale numerical columns manually\n",
    "summary = demographic_df.select(\n",
    "    [min(c).alias(c + \"_min\") for c in numerical_cols] + [max(c).alias(c + \"_max\") for c in numerical_cols]\n",
    ").collect()[0]\n",
    "\n",
    "df_scaled = demographic_df\n",
    "scaled_cols = []\n",
    "\n",
    "for c in numerical_cols:\n",
    "    min_val = summary[c + \"_min\"]\n",
    "    max_val = summary[c + \"_max\"]\n",
    "    scaled_col = f\"{c}_scaled\"\n",
    "    if max_val != min_val:\n",
    "        df_scaled = df_scaled.withColumn(scaled_col, (col(c) - min_val) / (max_val - min_val))\n",
    "    else:\n",
    "        df_scaled = df_scaled.withColumn(scaled_col, col(c) * 0)\n",
    "    scaled_cols.append(scaled_col)\n",
    "\n",
    "# 3. Index categorical columns\n",
    "indexed_cols = []\n",
    "for c in categorical_cols:\n",
    "    indexer = StringIndexer(inputCol=c, outputCol=c + \"_index\", handleInvalid=\"skip\")\n",
    "    df_scaled = indexer.fit(df_scaled).transform(df_scaled)\n",
    "    indexed_cols.append(c + \"_index\")\n",
    "\n",
    "# 4. OneHotEncode indexed columns\n",
    "encoder = OneHotEncoder(inputCols=indexed_cols, outputCols=[c + \"_ohe\" for c in categorical_cols])\n",
    "df_scaled = encoder.fit(df_scaled).transform(df_scaled)\n",
    "\n",
    "# 5. Assemble features vector\n",
    "feature_cols = scaled_cols + [c + \"_ohe\" for c in categorical_cols]\n",
    "assembler = VectorAssembler(inputCols=feature_cols, outputCol=\"features\")\n",
    "processed_df = assembler.transform(df_scaled).cache()\n",
    "\n",
    "# 6. Show results\n",
    "processed_df.select(\"household_id\", \"features\").show(7, truncate=False)"
   ]
  },
  {
   "cell_type": "markdown",
   "metadata": {
    "application/vnd.databricks.v1+cell": {
     "cellMetadata": {
      "byteLimit": 2048000,
      "rowLimit": 10000
     },
     "inputWidgets": {},
     "nuid": "370bfcfa-c11e-464e-9ac6-8bc39d22e098",
     "showTitle": false,
     "tableResultSettingsMap": {},
     "title": ""
    }
   },
   "source": [
    "### Visual Analysis"
   ]
  },
  {
   "cell_type": "code",
   "execution_count": 0,
   "metadata": {
    "application/vnd.databricks.v1+cell": {
     "cellMetadata": {
      "byteLimit": 2048000,
      "rowLimit": 10000
     },
     "inputWidgets": {},
     "nuid": "0d3da538-1e6c-4c5a-bd79-9f809556319a",
     "showTitle": false,
     "tableResultSettingsMap": {},
     "title": ""
    }
   },
   "outputs": [
    {
     "output_type": "stream",
     "name": "stdout",
     "output_type": "stream",
     "text": [
      "\uD83C\uDFC3 View run victorious-vole-999 at: https://adb-385435138940782.2.azuredatabricks.net/ml/experiments/2120248986648755/runs/ed9028c4cae14d34abd88b917d475fd0\n\uD83E\uDDEA View experiment at: https://adb-385435138940782.2.azuredatabricks.net/ml/experiments/2120248986648755\n+------------+-----------+------------+\n|household_id|pca_1      |pca_2       |\n+------------+-----------+------------+\n|85          |0.7696162  |-0.1432845  |\n|2073        |1.0470607  |-0.8077002  |\n|2523        |-0.21564461|-1.649638   |\n|2717        |-0.14727134|-0.009878108|\n|3364        |1.0866265  |-1.0202633  |\n|4046        |0.9640643  |-0.95014834 |\n|4303        |0.68522584 |0.33186218  |\n+------------+-----------+------------+\nonly showing top 7 rows\n\n"
     ]
    },
    {
     "output_type": "display_data",
     "data": {
      "image/png": "[encoded data removed]",
      "text/plain": [
       "<Figure size 800x600 with 1 Axes>"
      ]
     },
     "metadata": {},
     "output_type": "display_data"
    }
   ],
   "source": [
    "# Step 1: Initialize PCA with k=2\n",
    "pca = PCA(k=2, inputCol=\"features\", outputCol=\"pca_features\")\n",
    "\n",
    "# Step 2: Fit PCA model and transform data\n",
    "pca_model = pca.fit(processed_df)\n",
    "pca_df = pca_model.transform(processed_df)\n",
    "\n",
    "# Step 3: Extract the two PCA components into separate columns for plotting\n",
    "def extract_pca_components(v):\n",
    "    return float(v[0]), float(v[1])\n",
    "\n",
    "extract_udf = udf(extract_pca_components, StructType([\n",
    "    StructField(\"pca_1\", FloatType(), False),\n",
    "    StructField(\"pca_2\", FloatType(), False)\n",
    "]))\n",
    "\n",
    "pca_df = pca_df.withColumn(\"pca_struct\", extract_udf(\"pca_features\"))\n",
    "pca_df = pca_df.select(\n",
    "    \"household_id\",\n",
    "    \"pca_struct.pca_1\",\n",
    "    \"pca_struct.pca_2\"\n",
    ")\n",
    "\n",
    "# Show 7 rows\n",
    "pca_df.show(7, truncate=False)\n",
    "\n",
    "# Step 4: Convert to pandas for plotting\n",
    "pandas_df = pca_df.toPandas()\n",
    "\n",
    "# Step 5: Plot scatter plot with pink points\n",
    "pandas_df.plot.scatter(x='pca_1', y='pca_2', color='pink', figsize=(8,6), title='Household PCA Clusters')\n",
    "plt.show()"
   ]
  },
  {
   "cell_type": "markdown",
   "metadata": {
    "application/vnd.databricks.v1+cell": {
     "cellMetadata": {
      "byteLimit": 2048000,
      "rowLimit": 10000
     },
     "inputWidgets": {},
     "nuid": "7815ce78-184b-4ea6-a3a4-094a551d9ba5",
     "showTitle": false,
     "tableResultSettingsMap": {},
     "title": ""
    }
   },
   "source": [
    "### Clustering"
   ]
  },
  {
   "cell_type": "code",
   "execution_count": 0,
   "metadata": {
    "application/vnd.databricks.v1+cell": {
     "cellMetadata": {
      "byteLimit": 2048000,
      "rowLimit": 10000
     },
     "inputWidgets": {},
     "nuid": "eb846ae9-9f02-4b22-8777-76c14bf28046",
     "showTitle": false,
     "tableResultSettingsMap": {},
     "title": ""
    }
   },
   "outputs": [
    {
     "output_type": "display_data",
     "data": {
      "application/vnd.jupyter.widget-view+json": {
       "model_id": "c4de0c61873548c088d2a1c2febb2695",
       "version_major": 2,
       "version_minor": 0
      },
      "text/plain": [
       "Downloading artifacts:   0%|          | 0/15 [00:00<?, ?it/s]"
      ]
     },
     "metadata": {},
     "output_type": "display_data"
    },
    {
     "output_type": "display_data",
     "data": {
      "application/vnd.jupyter.widget-view+json": {
       "model_id": "96c24fbf7e9d482bbb58480fe84c3054",
       "version_major": 2,
       "version_minor": 0
      },
      "text/plain": [
       "Uploading artifacts:   0%|          | 0/4 [00:00<?, ?it/s]"
      ]
     },
     "metadata": {},
     "output_type": "display_data"
    },
    {
     "output_type": "stream",
     "name": "stdout",
     "output_type": "stream",
     "text": [
      "\uD83C\uDFC3 View run adorable-mare-788 at: https://adb-385435138940782.2.azuredatabricks.net/ml/experiments/2120248986648755/runs/13c7027140824e3b8b2005f097dbe607\n\uD83E\uDDEA View experiment at: https://adb-385435138940782.2.azuredatabricks.net/ml/experiments/2120248986648755\n+------------+-------+--------------------+\n|household_id|cluster|distance_to_centroid|\n+------------+-------+--------------------+\n|85          |1      |0.95686495          |\n|2073        |2      |0.8481486           |\n|2523        |0      |1.329641            |\n|2717        |1      |1.4315091           |\n|3364        |5      |0.5861586           |\n|4046        |5      |0.9358106           |\n|4303        |1      |0.9705721           |\n+------------+-------+--------------------+\nonly showing top 7 rows\n\n"
     ]
    }
   ],
   "source": [
    "# Set number of clusters and initialize KMeans\n",
    "k = 6\n",
    "kmeans = KMeans(k=k, seed=3, featuresCol=\"features\", predictionCol=\"cluster\")\n",
    "\n",
    "# Fit the model and transform data to assign clusters\n",
    "model = kmeans.fit(processed_df)\n",
    "clustered_df = model.transform(processed_df)\n",
    "\n",
    "# Retrieve cluster centers\n",
    "centers = model.clusterCenters()\n",
    "\n",
    "# Define UDF to compute distance to cluster centroid\n",
    "def compute_distance(features, cluster_idx):\n",
    "    center = centers[cluster_idx]\n",
    "    f_array = features.toArray()\n",
    "    \n",
    "    # Manual sum of squared differences\n",
    "    total = 0.0\n",
    "    for a, b in zip(f_array, center):\n",
    "        total += (a - b) ** 2\n",
    "    \n",
    "    return float(total ** 0.5)\n",
    "\n",
    "distance_udf = udf(compute_distance, FloatType())\n",
    "\n",
    "# Add distance column\n",
    "clustered_df = clustered_df.withColumn(\"distance_to_centroid\", distance_udf(\"features\", \"cluster\"))\n",
    "\n",
    "# Show 7 rows with household_id, cluster, and distance\n",
    "clustered_df.select(\"household_id\", \"cluster\", \"distance_to_centroid\").show(7, truncate=False)\n"
   ]
  },
  {
   "cell_type": "markdown",
   "metadata": {
    "application/vnd.databricks.v1+cell": {
     "cellMetadata": {
      "byteLimit": 2048000,
      "rowLimit": 10000
     },
     "inputWidgets": {},
     "nuid": "ee9d1af9-1ccf-4832-8706-eefe9703aea3",
     "showTitle": false,
     "tableResultSettingsMap": {},
     "title": ""
    }
   },
   "source": [
    "### Dividing households into subsets"
   ]
  },
  {
   "cell_type": "code",
   "execution_count": 0,
   "metadata": {
    "application/vnd.databricks.v1+cell": {
     "cellMetadata": {
      "byteLimit": 2048000,
      "rowLimit": 10000
     },
     "inputWidgets": {},
     "nuid": "fb53fb24-af9f-4280-93b7-66b8f06e2f59",
     "showTitle": false,
     "tableResultSettingsMap": {},
     "title": ""
    }
   },
   "outputs": [
    {
     "output_type": "stream",
     "name": "stdout",
     "output_type": "stream",
     "text": [
      "+------------+-------+-------+-----------+-----------+------------+\n|household_id|cluster|row_num|subset_full|subset_3rds|subset_17ths|\n+------------+-------+-------+-----------+-----------+------------+\n|2870796     |1      |1      |true       |false      |false       |\n|3631022     |1      |2      |true       |false      |false       |\n|3799062     |1      |3      |true       |true       |false       |\n|2357515     |1      |4      |true       |false      |false       |\n|107954      |1      |5      |true       |false      |false       |\n|4687821     |1      |6      |true       |true       |false       |\n|4015214     |1      |7      |true       |false      |false       |\n+------------+-------+-------+-----------+-----------+------------+\nonly showing top 7 rows\n\n"
     ]
    }
   ],
   "source": [
    "# Define window partitioned by cluster, ordered by ascending distance to centroid\n",
    "w = Window.partitionBy(\"cluster\").orderBy(\"distance_to_centroid\")\n",
    "\n",
    "# Add a row number within each cluster\n",
    "clustered_df = clustered_df.withColumn(\"row_num\", row_number().over(w))\n",
    "\n",
    "# Define subsets with conditions on row_num\n",
    "clustered_df = clustered_df.withColumn(\n",
    "    \"subset_full\", lit(True)  # full subset contains all rows\n",
    ").withColumn(\n",
    "    \"subset_3rds\", when((col(\"row_num\") % 3) == 0, True).otherwise(False)\n",
    ").withColumn(\n",
    "    \"subset_17ths\", when((col(\"row_num\") % 17) == 0, True).otherwise(False)\n",
    ")\n",
    "\n",
    "# Show example rows with subset flags\n",
    "clustered_df.select(\n",
    "    \"household_id\", \"cluster\", \"row_num\", \"subset_full\", \"subset_3rds\", \"subset_17ths\"\n",
    ").show(7, truncate=False)\n"
   ]
  },
  {
   "cell_type": "markdown",
   "metadata": {
    "application/vnd.databricks.v1+cell": {
     "cellMetadata": {
      "byteLimit": 2048000,
      "rowLimit": 10000
     },
     "inputWidgets": {},
     "nuid": "75e1419a-5cee-4bb4-aaa4-ee04b18f1d0d",
     "showTitle": false,
     "tableResultSettingsMap": {},
     "title": ""
    }
   },
   "source": [
    "### Cluster’s Viewing Analysis"
   ]
  },
  {
   "cell_type": "code",
   "execution_count": 0,
   "metadata": {
    "application/vnd.databricks.v1+cell": {
     "cellMetadata": {
      "byteLimit": 2048000,
      "rowLimit": 10000
     },
     "inputWidgets": {},
     "nuid": "6f520209-c4d0-4296-81a6-8f2086f52983",
     "showTitle": false,
     "tableResultSettingsMap": {},
     "title": ""
    }
   },
   "outputs": [],
   "source": [
    "# Join viewing data with cluster and subset info\n",
    "viewing_with_clusters = viewing_static_df.join(\n",
    "    clustered_df.select(\"household_id\", \"cluster\", \"subset_full\", \"subset_3rds\", \"subset_17ths\"),\n",
    "    on=\"household_id\",\n",
    "    how=\"inner\"\n",
    ")\n",
    "\n",
    "# Calculate general population station counts and percentages\n",
    "total_viewings = viewing_with_clusters.count()\n",
    "\n",
    "general_station_counts = viewing_with_clusters.groupBy(\"station_num\").agg(count(\"*\").alias(\"count\"))\n",
    "general_station_pct = general_station_counts.withColumn(\n",
    "    \"general_pct\", (col(\"count\") / total_viewings) * 100\n",
    ").select(\"station_num\", \"general_pct\")\n",
    "\n",
    "# Define subsets to process\n",
    "subsets = [(\"Full\", \"subset_full\"), (\"3rds\", \"subset_3rds\"), (\"17ths\", \"subset_17ths\")]\n",
    "clusters = [row['cluster'] for row in clustered_df.select(\"cluster\").distinct().collect()]\n",
    "\n",
    "# Initialize combined_results and row count tracker\n",
    "combined_results = None\n",
    "num_result_blocks = 0\n",
    "\n",
    "for cluster_id in clusters:\n",
    "    for subset_name, subset_col in subsets:\n",
    "        subset_viewings = viewing_with_clusters.filter(\n",
    "            (col(\"cluster\") == cluster_id) & (col(subset_col) == True)\n",
    "        )\n",
    "\n",
    "        subset_total = subset_viewings.count()\n",
    "        if subset_total == 0:\n",
    "            continue\n",
    "\n",
    "        subset_counts = subset_viewings.groupBy(\"station_num\").agg(count(\"*\").alias(\"subset_count\"))\n",
    "\n",
    "        subset_pct = subset_counts.withColumn(\n",
    "            \"subset_pct\", (col(\"subset_count\") / subset_total) * 100\n",
    "        ).select(\"station_num\", \"subset_pct\")\n",
    "\n",
    "        joined = subset_pct.join(general_station_pct, \"station_num\", \"left_outer\").fillna(0)\n",
    "\n",
    "        diff_rank_df = joined.withColumn(\"diff_rank\", col(\"subset_pct\") - col(\"general_pct\"))\n",
    "\n",
    "        top_stations = diff_rank_df.orderBy(desc(\"diff_rank\")).limit(7)\n",
    "        top_stations = top_stations.withColumn(\"cluster\", lit(cluster_id)).withColumn(\"subset\", lit(subset_name))\n",
    "\n",
    "        if combined_results is None:\n",
    "            combined_results = top_stations\n",
    "        else:\n",
    "            combined_results = combined_results.unionByName(top_stations)\n",
    "\n",
    "        num_result_blocks += 1\n",
    "\n",
    "# Show all top stations (7 per subset/cluster combo)\n",
    "final_df = combined_results.select(\"cluster\", \"subset\", \"station_num\", \"diff_rank\")"
   ]
  },
  {
   "cell_type": "code",
   "execution_count": 0,
   "metadata": {
    "application/vnd.databricks.v1+cell": {
     "cellMetadata": {
      "byteLimit": 2048000,
      "rowLimit": 10000
     },
     "inputWidgets": {},
     "nuid": "ffb2f912-e583-453c-8409-80162bb499b9",
     "showTitle": false,
     "tableResultSettingsMap": {},
     "title": ""
    }
   },
   "outputs": [
    {
     "output_type": "display_data",
     "data": {
      "text/html": [
       "<h2>Cluster 0</h2><div style='display: flex; gap: 40px;'>\n",
       "        <div>\n",
       "            <h3>Full</h3>\n",
       "            <table border=\"1\" class=\"dataframe\">\n",
       "  <thead>\n",
       "    <tr style=\"text-align: left;\">\n",
       "      <th>station_num</th>\n",
       "      <th>diff_rank</th>\n",
       "    </tr>\n",
       "  </thead>\n",
       "  <tbody>\n",
       "    <tr>\n",
       "      <td>60179</td>\n",
       "      <td>0.392001</td>\n",
       "    </tr>\n",
       "    <tr>\n",
       "      <td>16374</td>\n",
       "      <td>0.227303</td>\n",
       "    </tr>\n",
       "    <tr>\n",
       "      <td>49788</td>\n",
       "      <td>0.204553</td>\n",
       "    </tr>\n",
       "    <tr>\n",
       "      <td>32645</td>\n",
       "      <td>0.100178</td>\n",
       "    </tr>\n",
       "    <tr>\n",
       "      <td>10335</td>\n",
       "      <td>0.087455</td>\n",
       "    </tr>\n",
       "    <tr>\n",
       "      <td>50747</td>\n",
       "      <td>0.080610</td>\n",
       "    </tr>\n",
       "    <tr>\n",
       "      <td>61854</td>\n",
       "      <td>0.075668</td>\n",
       "    </tr>\n",
       "  </tbody>\n",
       "</table>\n",
       "        </div>\n",
       "        \n",
       "        <div>\n",
       "            <h3>3rds</h3>\n",
       "            <table border=\"1\" class=\"dataframe\">\n",
       "  <thead>\n",
       "    <tr style=\"text-align: left;\">\n",
       "      <th>station_num</th>\n",
       "      <th>diff_rank</th>\n",
       "    </tr>\n",
       "  </thead>\n",
       "  <tbody>\n",
       "    <tr>\n",
       "      <td>60179</td>\n",
       "      <td>0.278368</td>\n",
       "    </tr>\n",
       "    <tr>\n",
       "      <td>32645</td>\n",
       "      <td>0.247454</td>\n",
       "    </tr>\n",
       "    <tr>\n",
       "      <td>16374</td>\n",
       "      <td>0.213383</td>\n",
       "    </tr>\n",
       "    <tr>\n",
       "      <td>45507</td>\n",
       "      <td>0.145765</td>\n",
       "    </tr>\n",
       "    <tr>\n",
       "      <td>49788</td>\n",
       "      <td>0.137013</td>\n",
       "    </tr>\n",
       "    <tr>\n",
       "      <td>33585</td>\n",
       "      <td>0.096963</td>\n",
       "    </tr>\n",
       "    <tr>\n",
       "      <td>34215</td>\n",
       "      <td>0.089418</td>\n",
       "    </tr>\n",
       "  </tbody>\n",
       "</table>\n",
       "        </div>\n",
       "        \n",
       "        <div>\n",
       "            <h3>17ths</h3>\n",
       "            <table border=\"1\" class=\"dataframe\">\n",
       "  <thead>\n",
       "    <tr style=\"text-align: left;\">\n",
       "      <th>station_num</th>\n",
       "      <th>diff_rank</th>\n",
       "    </tr>\n",
       "  </thead>\n",
       "  <tbody>\n",
       "    <tr>\n",
       "      <td>16374</td>\n",
       "      <td>0.440159</td>\n",
       "    </tr>\n",
       "    <tr>\n",
       "      <td>49788</td>\n",
       "      <td>0.250780</td>\n",
       "    </tr>\n",
       "    <tr>\n",
       "      <td>11069</td>\n",
       "      <td>0.233579</td>\n",
       "    </tr>\n",
       "    <tr>\n",
       "      <td>59684</td>\n",
       "      <td>0.223981</td>\n",
       "    </tr>\n",
       "    <tr>\n",
       "      <td>61522</td>\n",
       "      <td>0.221562</td>\n",
       "    </tr>\n",
       "    <tr>\n",
       "      <td>35070</td>\n",
       "      <td>0.215183</td>\n",
       "    </tr>\n",
       "    <tr>\n",
       "      <td>30754</td>\n",
       "      <td>0.188976</td>\n",
       "    </tr>\n",
       "  </tbody>\n",
       "</table>\n",
       "        </div>\n",
       "        </div><hr><h2>Cluster 1</h2><div style='display: flex; gap: 40px;'>\n",
       "        <div>\n",
       "            <h3>Full</h3>\n",
       "            <table border=\"1\" class=\"dataframe\">\n",
       "  <thead>\n",
       "    <tr style=\"text-align: left;\">\n",
       "      <th>station_num</th>\n",
       "      <th>diff_rank</th>\n",
       "    </tr>\n",
       "  </thead>\n",
       "  <tbody>\n",
       "    <tr>\n",
       "      <td>74796</td>\n",
       "      <td>0.099085</td>\n",
       "    </tr>\n",
       "    <tr>\n",
       "      <td>16615</td>\n",
       "      <td>0.078215</td>\n",
       "    </tr>\n",
       "    <tr>\n",
       "      <td>58515</td>\n",
       "      <td>0.072905</td>\n",
       "    </tr>\n",
       "    <tr>\n",
       "      <td>15433</td>\n",
       "      <td>0.062163</td>\n",
       "    </tr>\n",
       "    <tr>\n",
       "      <td>11867</td>\n",
       "      <td>0.054905</td>\n",
       "    </tr>\n",
       "    <tr>\n",
       "      <td>10145</td>\n",
       "      <td>0.050240</td>\n",
       "    </tr>\n",
       "    <tr>\n",
       "      <td>18151</td>\n",
       "      <td>0.045981</td>\n",
       "    </tr>\n",
       "  </tbody>\n",
       "</table>\n",
       "        </div>\n",
       "        \n",
       "        <div>\n",
       "            <h3>3rds</h3>\n",
       "            <table border=\"1\" class=\"dataframe\">\n",
       "  <thead>\n",
       "    <tr style=\"text-align: left;\">\n",
       "      <th>station_num</th>\n",
       "      <th>diff_rank</th>\n",
       "    </tr>\n",
       "  </thead>\n",
       "  <tbody>\n",
       "    <tr>\n",
       "      <td>74796</td>\n",
       "      <td>0.192057</td>\n",
       "    </tr>\n",
       "    <tr>\n",
       "      <td>58515</td>\n",
       "      <td>0.118709</td>\n",
       "    </tr>\n",
       "    <tr>\n",
       "      <td>35859</td>\n",
       "      <td>0.102822</td>\n",
       "    </tr>\n",
       "    <tr>\n",
       "      <td>10518</td>\n",
       "      <td>0.098150</td>\n",
       "    </tr>\n",
       "    <tr>\n",
       "      <td>16615</td>\n",
       "      <td>0.092923</td>\n",
       "    </tr>\n",
       "    <tr>\n",
       "      <td>11344</td>\n",
       "      <td>0.079443</td>\n",
       "    </tr>\n",
       "    <tr>\n",
       "      <td>10510</td>\n",
       "      <td>0.079091</td>\n",
       "    </tr>\n",
       "  </tbody>\n",
       "</table>\n",
       "        </div>\n",
       "        \n",
       "        <div>\n",
       "            <h3>17ths</h3>\n",
       "            <table border=\"1\" class=\"dataframe\">\n",
       "  <thead>\n",
       "    <tr style=\"text-align: left;\">\n",
       "      <th>station_num</th>\n",
       "      <th>diff_rank</th>\n",
       "    </tr>\n",
       "  </thead>\n",
       "  <tbody>\n",
       "    <tr>\n",
       "      <td>11867</td>\n",
       "      <td>0.352901</td>\n",
       "    </tr>\n",
       "    <tr>\n",
       "      <td>14902</td>\n",
       "      <td>0.284535</td>\n",
       "    </tr>\n",
       "    <tr>\n",
       "      <td>21762</td>\n",
       "      <td>0.241477</td>\n",
       "    </tr>\n",
       "    <tr>\n",
       "      <td>11158</td>\n",
       "      <td>0.240309</td>\n",
       "    </tr>\n",
       "    <tr>\n",
       "      <td>16123</td>\n",
       "      <td>0.237210</td>\n",
       "    </tr>\n",
       "    <tr>\n",
       "      <td>10057</td>\n",
       "      <td>0.220366</td>\n",
       "    </tr>\n",
       "    <tr>\n",
       "      <td>16615</td>\n",
       "      <td>0.215627</td>\n",
       "    </tr>\n",
       "  </tbody>\n",
       "</table>\n",
       "        </div>\n",
       "        </div><hr><h2>Cluster 2</h2><div style='display: flex; gap: 40px;'>\n",
       "        <div>\n",
       "            <h3>Full</h3>\n",
       "            <table border=\"1\" class=\"dataframe\">\n",
       "  <thead>\n",
       "    <tr style=\"text-align: left;\">\n",
       "      <th>station_num</th>\n",
       "      <th>diff_rank</th>\n",
       "    </tr>\n",
       "  </thead>\n",
       "  <tbody>\n",
       "    <tr>\n",
       "      <td>12131</td>\n",
       "      <td>1.087372</td>\n",
       "    </tr>\n",
       "    <tr>\n",
       "      <td>11118</td>\n",
       "      <td>0.793252</td>\n",
       "    </tr>\n",
       "    <tr>\n",
       "      <td>10222</td>\n",
       "      <td>0.732711</td>\n",
       "    </tr>\n",
       "    <tr>\n",
       "      <td>10171</td>\n",
       "      <td>0.628265</td>\n",
       "    </tr>\n",
       "    <tr>\n",
       "      <td>59684</td>\n",
       "      <td>0.495418</td>\n",
       "    </tr>\n",
       "    <tr>\n",
       "      <td>44714</td>\n",
       "      <td>0.391736</td>\n",
       "    </tr>\n",
       "    <tr>\n",
       "      <td>21883</td>\n",
       "      <td>0.349807</td>\n",
       "    </tr>\n",
       "  </tbody>\n",
       "</table>\n",
       "        </div>\n",
       "        \n",
       "        <div>\n",
       "            <h3>3rds</h3>\n",
       "            <table border=\"1\" class=\"dataframe\">\n",
       "  <thead>\n",
       "    <tr style=\"text-align: left;\">\n",
       "      <th>station_num</th>\n",
       "      <th>diff_rank</th>\n",
       "    </tr>\n",
       "  </thead>\n",
       "  <tbody>\n",
       "    <tr>\n",
       "      <td>12131</td>\n",
       "      <td>1.614190</td>\n",
       "    </tr>\n",
       "    <tr>\n",
       "      <td>10222</td>\n",
       "      <td>0.766503</td>\n",
       "    </tr>\n",
       "    <tr>\n",
       "      <td>11118</td>\n",
       "      <td>0.673430</td>\n",
       "    </tr>\n",
       "    <tr>\n",
       "      <td>10171</td>\n",
       "      <td>0.666586</td>\n",
       "    </tr>\n",
       "    <tr>\n",
       "      <td>21883</td>\n",
       "      <td>0.524156</td>\n",
       "    </tr>\n",
       "    <tr>\n",
       "      <td>10153</td>\n",
       "      <td>0.373976</td>\n",
       "    </tr>\n",
       "    <tr>\n",
       "      <td>10730</td>\n",
       "      <td>0.346836</td>\n",
       "    </tr>\n",
       "  </tbody>\n",
       "</table>\n",
       "        </div>\n",
       "        \n",
       "        <div>\n",
       "            <h3>17ths</h3>\n",
       "            <table border=\"1\" class=\"dataframe\">\n",
       "  <thead>\n",
       "    <tr style=\"text-align: left;\">\n",
       "      <th>station_num</th>\n",
       "      <th>diff_rank</th>\n",
       "    </tr>\n",
       "  </thead>\n",
       "  <tbody>\n",
       "    <tr>\n",
       "      <td>12131</td>\n",
       "      <td>0.900642</td>\n",
       "    </tr>\n",
       "    <tr>\n",
       "      <td>59684</td>\n",
       "      <td>0.835488</td>\n",
       "    </tr>\n",
       "    <tr>\n",
       "      <td>10222</td>\n",
       "      <td>0.790187</td>\n",
       "    </tr>\n",
       "    <tr>\n",
       "      <td>10171</td>\n",
       "      <td>0.665640</td>\n",
       "    </tr>\n",
       "    <tr>\n",
       "      <td>17927</td>\n",
       "      <td>0.604227</td>\n",
       "    </tr>\n",
       "    <tr>\n",
       "      <td>11118</td>\n",
       "      <td>0.568054</td>\n",
       "    </tr>\n",
       "    <tr>\n",
       "      <td>10239</td>\n",
       "      <td>0.552084</td>\n",
       "    </tr>\n",
       "  </tbody>\n",
       "</table>\n",
       "        </div>\n",
       "        </div><hr><h2>Cluster 3</h2><div style='display: flex; gap: 40px;'>\n",
       "        <div>\n",
       "            <h3>Full</h3>\n",
       "            <table border=\"1\" class=\"dataframe\">\n",
       "  <thead>\n",
       "    <tr style=\"text-align: left;\">\n",
       "      <th>station_num</th>\n",
       "      <th>diff_rank</th>\n",
       "    </tr>\n",
       "  </thead>\n",
       "  <tbody>\n",
       "    <tr>\n",
       "      <td>35513</td>\n",
       "      <td>1.240484</td>\n",
       "    </tr>\n",
       "    <tr>\n",
       "      <td>70387</td>\n",
       "      <td>0.928696</td>\n",
       "    </tr>\n",
       "    <tr>\n",
       "      <td>11706</td>\n",
       "      <td>0.876718</td>\n",
       "    </tr>\n",
       "    <tr>\n",
       "      <td>10918</td>\n",
       "      <td>0.843630</td>\n",
       "    </tr>\n",
       "    <tr>\n",
       "      <td>10179</td>\n",
       "      <td>0.765444</td>\n",
       "    </tr>\n",
       "    <tr>\n",
       "      <td>12131</td>\n",
       "      <td>0.762648</td>\n",
       "    </tr>\n",
       "    <tr>\n",
       "      <td>10171</td>\n",
       "      <td>0.717973</td>\n",
       "    </tr>\n",
       "  </tbody>\n",
       "</table>\n",
       "        </div>\n",
       "        \n",
       "        <div>\n",
       "            <h3>3rds</h3>\n",
       "            <table border=\"1\" class=\"dataframe\">\n",
       "  <thead>\n",
       "    <tr style=\"text-align: left;\">\n",
       "      <th>station_num</th>\n",
       "      <th>diff_rank</th>\n",
       "    </tr>\n",
       "  </thead>\n",
       "  <tbody>\n",
       "    <tr>\n",
       "      <td>35513</td>\n",
       "      <td>1.383053</td>\n",
       "    </tr>\n",
       "    <tr>\n",
       "      <td>70387</td>\n",
       "      <td>0.942800</td>\n",
       "    </tr>\n",
       "    <tr>\n",
       "      <td>11706</td>\n",
       "      <td>0.880720</td>\n",
       "    </tr>\n",
       "    <tr>\n",
       "      <td>10918</td>\n",
       "      <td>0.853743</td>\n",
       "    </tr>\n",
       "    <tr>\n",
       "      <td>10179</td>\n",
       "      <td>0.774419</td>\n",
       "    </tr>\n",
       "    <tr>\n",
       "      <td>11561</td>\n",
       "      <td>0.600269</td>\n",
       "    </tr>\n",
       "    <tr>\n",
       "      <td>16615</td>\n",
       "      <td>0.593967</td>\n",
       "    </tr>\n",
       "  </tbody>\n",
       "</table>\n",
       "        </div>\n",
       "        \n",
       "        <div>\n",
       "            <h3>17ths</h3>\n",
       "            <table border=\"1\" class=\"dataframe\">\n",
       "  <thead>\n",
       "    <tr style=\"text-align: left;\">\n",
       "      <th>station_num</th>\n",
       "      <th>diff_rank</th>\n",
       "    </tr>\n",
       "  </thead>\n",
       "  <tbody>\n",
       "    <tr>\n",
       "      <td>10179</td>\n",
       "      <td>1.726482</td>\n",
       "    </tr>\n",
       "    <tr>\n",
       "      <td>10171</td>\n",
       "      <td>1.259755</td>\n",
       "    </tr>\n",
       "    <tr>\n",
       "      <td>35513</td>\n",
       "      <td>0.878251</td>\n",
       "    </tr>\n",
       "    <tr>\n",
       "      <td>11809</td>\n",
       "      <td>0.836931</td>\n",
       "    </tr>\n",
       "    <tr>\n",
       "      <td>11706</td>\n",
       "      <td>0.829496</td>\n",
       "    </tr>\n",
       "    <tr>\n",
       "      <td>12439</td>\n",
       "      <td>0.681558</td>\n",
       "    </tr>\n",
       "    <tr>\n",
       "      <td>10918</td>\n",
       "      <td>0.642094</td>\n",
       "    </tr>\n",
       "  </tbody>\n",
       "</table>\n",
       "        </div>\n",
       "        </div><hr><h2>Cluster 4</h2><div style='display: flex; gap: 40px;'>\n",
       "        <div>\n",
       "            <h3>Full</h3>\n",
       "            <table border=\"1\" class=\"dataframe\">\n",
       "  <thead>\n",
       "    <tr style=\"text-align: left;\">\n",
       "      <th>station_num</th>\n",
       "      <th>diff_rank</th>\n",
       "    </tr>\n",
       "  </thead>\n",
       "  <tbody>\n",
       "    <tr>\n",
       "      <td>12131</td>\n",
       "      <td>0.809698</td>\n",
       "    </tr>\n",
       "    <tr>\n",
       "      <td>10171</td>\n",
       "      <td>0.527432</td>\n",
       "    </tr>\n",
       "    <tr>\n",
       "      <td>70387</td>\n",
       "      <td>0.480289</td>\n",
       "    </tr>\n",
       "    <tr>\n",
       "      <td>10918</td>\n",
       "      <td>0.441202</td>\n",
       "    </tr>\n",
       "    <tr>\n",
       "      <td>11706</td>\n",
       "      <td>0.384023</td>\n",
       "    </tr>\n",
       "    <tr>\n",
       "      <td>35513</td>\n",
       "      <td>0.380847</td>\n",
       "    </tr>\n",
       "    <tr>\n",
       "      <td>10642</td>\n",
       "      <td>0.363117</td>\n",
       "    </tr>\n",
       "  </tbody>\n",
       "</table>\n",
       "        </div>\n",
       "        \n",
       "        <div>\n",
       "            <h3>3rds</h3>\n",
       "            <table border=\"1\" class=\"dataframe\">\n",
       "  <thead>\n",
       "    <tr style=\"text-align: left;\">\n",
       "      <th>station_num</th>\n",
       "      <th>diff_rank</th>\n",
       "    </tr>\n",
       "  </thead>\n",
       "  <tbody>\n",
       "    <tr>\n",
       "      <td>12131</td>\n",
       "      <td>0.815470</td>\n",
       "    </tr>\n",
       "    <tr>\n",
       "      <td>10642</td>\n",
       "      <td>0.600546</td>\n",
       "    </tr>\n",
       "    <tr>\n",
       "      <td>70387</td>\n",
       "      <td>0.535381</td>\n",
       "    </tr>\n",
       "    <tr>\n",
       "      <td>10918</td>\n",
       "      <td>0.515540</td>\n",
       "    </tr>\n",
       "    <tr>\n",
       "      <td>10171</td>\n",
       "      <td>0.487152</td>\n",
       "    </tr>\n",
       "    <tr>\n",
       "      <td>11706</td>\n",
       "      <td>0.413149</td>\n",
       "    </tr>\n",
       "    <tr>\n",
       "      <td>11809</td>\n",
       "      <td>0.412065</td>\n",
       "    </tr>\n",
       "  </tbody>\n",
       "</table>\n",
       "        </div>\n",
       "        \n",
       "        <div>\n",
       "            <h3>17ths</h3>\n",
       "            <table border=\"1\" class=\"dataframe\">\n",
       "  <thead>\n",
       "    <tr style=\"text-align: left;\">\n",
       "      <th>station_num</th>\n",
       "      <th>diff_rank</th>\n",
       "    </tr>\n",
       "  </thead>\n",
       "  <tbody>\n",
       "    <tr>\n",
       "      <td>10171</td>\n",
       "      <td>1.521542</td>\n",
       "    </tr>\n",
       "    <tr>\n",
       "      <td>12131</td>\n",
       "      <td>1.139040</td>\n",
       "    </tr>\n",
       "    <tr>\n",
       "      <td>35513</td>\n",
       "      <td>0.904453</td>\n",
       "    </tr>\n",
       "    <tr>\n",
       "      <td>12729</td>\n",
       "      <td>0.875102</td>\n",
       "    </tr>\n",
       "    <tr>\n",
       "      <td>70387</td>\n",
       "      <td>0.861633</td>\n",
       "    </tr>\n",
       "    <tr>\n",
       "      <td>10918</td>\n",
       "      <td>0.709680</td>\n",
       "    </tr>\n",
       "    <tr>\n",
       "      <td>14767</td>\n",
       "      <td>0.702513</td>\n",
       "    </tr>\n",
       "  </tbody>\n",
       "</table>\n",
       "        </div>\n",
       "        </div><hr><h2>Cluster 5</h2><div style='display: flex; gap: 40px;'>\n",
       "        <div>\n",
       "            <h3>Full</h3>\n",
       "            <table border=\"1\" class=\"dataframe\">\n",
       "  <thead>\n",
       "    <tr style=\"text-align: left;\">\n",
       "      <th>station_num</th>\n",
       "      <th>diff_rank</th>\n",
       "    </tr>\n",
       "  </thead>\n",
       "  <tbody>\n",
       "    <tr>\n",
       "      <td>60179</td>\n",
       "      <td>0.170290</td>\n",
       "    </tr>\n",
       "    <tr>\n",
       "      <td>16374</td>\n",
       "      <td>0.146327</td>\n",
       "    </tr>\n",
       "    <tr>\n",
       "      <td>19606</td>\n",
       "      <td>0.102470</td>\n",
       "    </tr>\n",
       "    <tr>\n",
       "      <td>11713</td>\n",
       "      <td>0.092901</td>\n",
       "    </tr>\n",
       "    <tr>\n",
       "      <td>14771</td>\n",
       "      <td>0.080800</td>\n",
       "    </tr>\n",
       "    <tr>\n",
       "      <td>11661</td>\n",
       "      <td>0.079227</td>\n",
       "    </tr>\n",
       "    <tr>\n",
       "      <td>57708</td>\n",
       "      <td>0.066473</td>\n",
       "    </tr>\n",
       "  </tbody>\n",
       "</table>\n",
       "        </div>\n",
       "        \n",
       "        <div>\n",
       "            <h3>3rds</h3>\n",
       "            <table border=\"1\" class=\"dataframe\">\n",
       "  <thead>\n",
       "    <tr style=\"text-align: left;\">\n",
       "      <th>station_num</th>\n",
       "      <th>diff_rank</th>\n",
       "    </tr>\n",
       "  </thead>\n",
       "  <tbody>\n",
       "    <tr>\n",
       "      <td>60179</td>\n",
       "      <td>0.143748</td>\n",
       "    </tr>\n",
       "    <tr>\n",
       "      <td>19606</td>\n",
       "      <td>0.135931</td>\n",
       "    </tr>\n",
       "    <tr>\n",
       "      <td>57708</td>\n",
       "      <td>0.123159</td>\n",
       "    </tr>\n",
       "    <tr>\n",
       "      <td>11713</td>\n",
       "      <td>0.113942</td>\n",
       "    </tr>\n",
       "    <tr>\n",
       "      <td>14776</td>\n",
       "      <td>0.096207</td>\n",
       "    </tr>\n",
       "    <tr>\n",
       "      <td>56905</td>\n",
       "      <td>0.082568</td>\n",
       "    </tr>\n",
       "    <tr>\n",
       "      <td>15433</td>\n",
       "      <td>0.082210</td>\n",
       "    </tr>\n",
       "  </tbody>\n",
       "</table>\n",
       "        </div>\n",
       "        \n",
       "        <div>\n",
       "            <h3>17ths</h3>\n",
       "            <table border=\"1\" class=\"dataframe\">\n",
       "  <thead>\n",
       "    <tr style=\"text-align: left;\">\n",
       "      <th>station_num</th>\n",
       "      <th>diff_rank</th>\n",
       "    </tr>\n",
       "  </thead>\n",
       "  <tbody>\n",
       "    <tr>\n",
       "      <td>16374</td>\n",
       "      <td>0.439889</td>\n",
       "    </tr>\n",
       "    <tr>\n",
       "      <td>64312</td>\n",
       "      <td>0.391053</td>\n",
       "    </tr>\n",
       "    <tr>\n",
       "      <td>60179</td>\n",
       "      <td>0.325287</td>\n",
       "    </tr>\n",
       "    <tr>\n",
       "      <td>31046</td>\n",
       "      <td>0.217928</td>\n",
       "    </tr>\n",
       "    <tr>\n",
       "      <td>49788</td>\n",
       "      <td>0.165676</td>\n",
       "    </tr>\n",
       "    <tr>\n",
       "      <td>46811</td>\n",
       "      <td>0.152370</td>\n",
       "    </tr>\n",
       "    <tr>\n",
       "      <td>18544</td>\n",
       "      <td>0.135160</td>\n",
       "    </tr>\n",
       "  </tbody>\n",
       "</table>\n",
       "        </div>\n",
       "        </div><hr>"
      ],
      "text/plain": [
       "<IPython.core.display.HTML object>"
      ]
     },
     "metadata": {},
     "output_type": "display_data"
    }
   ],
   "source": [
    "from IPython.display import display, HTML\n",
    "import pandas as pd\n",
    "\n",
    "# Convert Spark DataFrame to Pandas for easier HTML formatting\n",
    "pandas_df = final_df.toPandas()\n",
    "\n",
    "# Sort to maintain consistent ordering\n",
    "pandas_df = pandas_df.sort_values(by=['cluster', 'subset', 'diff_rank'], ascending=[True, True, False])\n",
    "\n",
    "# Group by cluster\n",
    "clusters = pandas_df['cluster'].unique()\n",
    "\n",
    "html_output = \"\"\n",
    "\n",
    "for cluster in clusters:\n",
    "    html_output += f\"<h2>Cluster {cluster}</h2><div style='display: flex; gap: 40px;'>\"\n",
    "    \n",
    "    for subset in ['Full', '3rds', '17ths']:\n",
    "        subset_df = pandas_df[(pandas_df['cluster'] == cluster) & (pandas_df['subset'] == subset)][['station_num', 'diff_rank']]\n",
    "        html_output += f\"\"\"\n",
    "        <div>\n",
    "            <h3>{subset}</h3>\n",
    "            {subset_df.to_html(index=False, border=1, justify='left')}\n",
    "        </div>\n",
    "        \"\"\"\n",
    "    \n",
    "    html_output += \"</div><hr>\"\n",
    "\n",
    "# Display the final HTML\n",
    "display(HTML(html_output))"
   ]
  },
  {
   "cell_type": "markdown",
   "metadata": {
    "application/vnd.databricks.v1+cell": {
     "cellMetadata": {
      "byteLimit": 2048000,
      "rowLimit": 10000
     },
     "inputWidgets": {},
     "nuid": "6b823221-f028-48d6-870a-090cc687665f",
     "showTitle": false,
     "tableResultSettingsMap": {},
     "title": ""
    }
   },
   "source": [
    "## Dynamic Data Analysis - Streaming (35 points)"
   ]
  },
  {
   "cell_type": "code",
   "execution_count": 0,
   "metadata": {
    "application/vnd.databricks.v1+cell": {
     "cellMetadata": {
      "byteLimit": 2048000,
      "rowLimit": 10000
     },
     "inputWidgets": {},
     "nuid": "8780060a-1f22-46a9-8950-c701c00229c4",
     "showTitle": false,
     "tableResultSettingsMap": {},
     "title": ""
    }
   },
   "outputs": [],
   "source": [
    "from pyspark.sql import DataFrame\n",
    "from pyspark.sql.streaming import DataStreamWriter\n",
    "import time"
   ]
  },
  {
   "cell_type": "code",
   "execution_count": 0,
   "metadata": {
    "application/vnd.databricks.v1+cell": {
     "cellMetadata": {
      "byteLimit": 2048000,
      "rowLimit": 10000
     },
     "inputWidgets": {},
     "nuid": "53de1bb2-e87a-424e-b802-97bae4f31a9c",
     "showTitle": false,
     "tableResultSettingsMap": {},
     "title": ""
    }
   },
   "outputs": [],
   "source": [
    "SCHEMA = \"device_id STRING, event_date INT, event_time INT, station_num STRING, prog_code STRING, household_id STRING\"\n",
    "kafka_server = \"kafka.eastus.cloudapp.azure.com:29092\"\n",
    "topic = \"view_data\" \n",
    "OFFSETS_PER_TRIGGER = 50000\n",
    "\n",
    "streaming_df = spark.readStream\\\n",
    "                  .format(\"kafka\")\\\n",
    "                  .option(\"kafka.bootstrap.servers\", kafka_server)\\\n",
    "                  .option(\"subscribe\", topic)\\\n",
    "                  .option(\"startingOffsets\", \"earliest\")\\\n",
    "                  .option(\"failOnDataLoss\",False)\\\n",
    "                  .option(\"maxOffsetsPerTrigger\", OFFSETS_PER_TRIGGER)\\\n",
    "                  .load()\\\n",
    "                  .select(from_csv(decode(\"value\", \"US-ASCII\"), schema=SCHEMA).alias(\"value\")).select(\"value.*\")"
   ]
  },
  {
   "cell_type": "code",
   "execution_count": 0,
   "metadata": {
    "application/vnd.databricks.v1+cell": {
     "cellMetadata": {
      "byteLimit": 2048000,
      "rowLimit": 10000
     },
     "inputWidgets": {},
     "nuid": "74596a4b-94d0-4e84-9bbd-4017d78a9822",
     "showTitle": false,
     "tableResultSettingsMap": {},
     "title": ""
    }
   },
   "outputs": [
    {
     "output_type": "stream",
     "name": "stdout",
     "output_type": "stream",
     "text": [
      "Streaming query started. Waiting for batches...\nTop Stations per Cluster by cumulative diff_rank (3rds subset) - Batch 1:\n+-------+-----------+-------------------+\n|cluster|station_num|diff_rank          |\n+-------+-----------+-------------------+\n|0      |32645      |0.6545567491111535 |\n|0      |11150      |0.3663890507698895 |\n|0      |10142      |0.3397109784317117 |\n|0      |11164      |0.3289651967812214 |\n|0      |11158      |0.3103270179764027 |\n|0      |10057      |0.3024346208220746 |\n|0      |10021      |0.25522773427513623|\n|1      |14771      |0.4296431285528839 |\n|1      |12131      |0.32321660378825023|\n|1      |10145      |0.30635116359920533|\n|1      |11713      |0.28078792970966093|\n|1      |70522      |0.24087692685278   |\n|1      |16300      |0.23690187883327057|\n|1      |25544      |0.2118497828930999 |\n|2      |10647      |0.7296580251695254 |\n|2      |12574      |0.6615144294277733 |\n|2      |10731      |0.628596883178621  |\n|2      |18480      |0.49692669818201085|\n|2      |10918      |0.48162217667915863|\n|2      |21251      |0.47469666694881707|\n|2      |21484      |0.47469666694881707|\n|2      |30754      |0.47469666694881707|\n|2      |18633      |0.47469666694881707|\n|2      |59976      |0.47469666694881707|\n|2      |10767      |0.47469666694881707|\n|3      |10021      |0.6849522196685616 |\n|3      |11705      |0.5966781293381027 |\n|3      |10171      |0.5781736911530069 |\n|3      |10505      |0.5112841072076586 |\n|3      |18480      |0.4866595240975309 |\n|3      |35513      |0.4862995155725287 |\n|3      |10057      |0.46239494951240445|\n|4      |56905      |0.9812050856826974 |\n|4      |10162      |0.7379767827529022 |\n|4      |16300      |0.7324488667772249 |\n|4      |49788      |0.6661138750690989 |\n|4      |11221      |0.6619679380873413 |\n|4      |20290      |0.6135986733001659 |\n|4      |55887      |0.5527915975677169 |\n|4      |33585      |0.5527915975677169 |\n|5      |18480      |0.2531719244959876 |\n|5      |10120      |0.23083158555526942|\n|5      |16616      |0.1732078724161038 |\n|5      |14771      |0.16750348161850392|\n|5      |31709      |0.15745947217659972|\n|5      |60048      |0.15659645449142723|\n|5      |18279      |0.14628930270624063|\n+-------+-----------+-------------------+\n\nTop Stations per Cluster by cumulative diff_rank (3rds subset) - Batch 2:\n+-------+-----------+-------------------+\n|cluster|station_num|diff_rank          |\n+-------+-----------+-------------------+\n|0      |32645      |0.36739606589636775|\n|0      |11158      |0.3505138209698554 |\n|0      |11150      |0.3389118046428359 |\n|0      |16374      |0.28009959505079807|\n|0      |14321      |0.269115941580216  |\n|0      |10021      |0.23362245016114414|\n|0      |66268      |0.21371679985847136|\n|1      |14771      |0.3243074379504828 |\n|1      |16300      |0.3010332742700617 |\n|1      |14902      |0.21202507352823163|\n|1      |12131      |0.17655968125330435|\n|1      |52367      |0.17119242707122914|\n|1      |70522      |0.1711071737244144 |\n|1      |25544      |0.15765938493120407|\n|2      |10918      |0.6482163687039291 |\n|2      |12574      |0.5142294673101152 |\n|2      |21251      |0.4258973619467859 |\n|2      |11150      |0.41583618140639333|\n|2      |64490      |0.40958929755055984|\n|2      |59684      |0.37533847017901123|\n|2      |10830      |0.36121000388824737|\n|3      |10171      |0.6351726723833355 |\n|3      |18480      |0.60777394585559   |\n|3      |59684      |0.5402556554836457 |\n|3      |16409      |0.5267694906105516 |\n|3      |10021      |0.4054596062575586 |\n|3      |35513      |0.4053502737494672 |\n|3      |11865      |0.37808274623143145|\n|4      |56905      |0.8307355015433674 |\n|4      |45980      |0.8260082994337578 |\n|4      |17927      |0.7427073325292829 |\n|4      |10162      |0.6499519614055888 |\n|4      |49788      |0.6341605511151089 |\n|4      |11150      |0.6228152660520452 |\n|4      |32645      |0.6155328195588621 |\n|5      |18480      |0.2352076770487389 |\n|5      |16409      |0.14373372765926107|\n|5      |31709      |0.13492968464002358|\n|5      |16616      |0.12867587749601195|\n|5      |61812      |0.12618494943183792|\n|5      |50747      |0.12431780902435713|\n|5      |14771      |0.12280862676448656|\n+-------+-----------+-------------------+\n\nTop Stations per Cluster by cumulative diff_rank (3rds subset) - Batch 3:\n+-------+-----------+-------------------+\n|cluster|station_num|diff_rank          |\n+-------+-----------+-------------------+\n|0      |32645      |0.4013473085210988 |\n|0      |11150      |0.3110106906002217 |\n|0      |11158      |0.28008954162220967|\n|0      |14321      |0.2522646917299525 |\n|0      |66268      |0.223477478608339  |\n|0      |10021      |0.19799577397016677|\n|0      |14902      |0.19301659030523644|\n|1      |16300      |0.2766226051054752 |\n|1      |14771      |0.2352254262878284 |\n|1      |11809      |0.18272165881758248|\n|1      |14902      |0.17007736057211797|\n|1      |11713      |0.16409748262319268|\n|1      |11158      |0.14374968905405383|\n|1      |70522      |0.13863278755495195|\n|2      |10918      |0.6213638302498081 |\n|2      |12574      |0.4511483115271118 |\n|2      |64490      |0.4347736594884677 |\n|2      |10801      |0.43238454078473726|\n|2      |16615      |0.37830775781760995|\n|2      |21251      |0.36467140337016435|\n|2      |24533      |0.3576786367027075 |\n|3      |10171      |0.45229716053257585|\n|3      |16409      |0.44905189595310857|\n|3      |18480      |0.44015832564128365|\n|3      |59684      |0.4308706874876661 |\n|3      |35513      |0.4287689923314397 |\n|3      |14902      |0.3556500906278768 |\n|3      |10021      |0.3255541250635339 |\n|4      |56905      |0.813723164583331  |\n|4      |32645      |0.7904594818171202 |\n|4      |17927      |0.6729489848629525 |\n|4      |45980      |0.6086969086515133 |\n|4      |11150      |0.5900450222100739 |\n|4      |49788      |0.5597612943855295 |\n|4      |10162      |0.5476357620120438 |\n|5      |18480      |0.21339405805763817|\n|5      |16616      |0.12992395928974954|\n|5      |14771      |0.12587596896125586|\n|5      |16409      |0.11636530602422457|\n|5      |61812      |0.11327453278195582|\n|5      |19606      |0.11024142321958003|\n|5      |11706      |0.10790412206124747|\n+-------+-----------+-------------------+\n\nStreaming process complete.\n"
     ]
    }
   ],
   "source": [
    "import pyspark.sql.functions as F\n",
    "\n",
    "# Global counters and accumulators\n",
    "batch_count = 0\n",
    "MIN_BATCHES_TO_PROCESS = 3\n",
    "max_rows = 50\n",
    "\n",
    "# Cumulative state dictionaries\n",
    "cumulative_subset_counts = {}\n",
    "cumulative_general_counts = {}\n",
    "\n",
    "def process_batch(df, epoch_id):\n",
    "    global batch_count, cumulative_subset_counts, cumulative_general_counts\n",
    "\n",
    "    batch_count += 1\n",
    "\n",
    "    if df.isEmpty():\n",
    "        print(f\"Batch {batch_count} is empty. Skipping analysis.\")\n",
    "        if batch_count >= MIN_BATCHES_TO_PROCESS:\n",
    "            try:\n",
    "                print(f\"Processed at least {MIN_BATCHES_TO_PROCESS} batches. Stopping stream.\")\n",
    "                query.stop()\n",
    "            except Exception as e:\n",
    "                print(f\"Caught exception while stopping (expected during shutdown): {e}\")\n",
    "        return\n",
    "\n",
    "    # Join with clustering info\n",
    "    batch_with_cluster_info = df.join(\n",
    "        broadcast(clustered_df.select(\"household_id\", \"cluster\", \"subset_3rds\")),\n",
    "        on=\"household_id\",\n",
    "        how=\"inner\"\n",
    "    )\n",
    "\n",
    "    # Subset: only \"3rds\"\n",
    "    subset_df = batch_with_cluster_info.filter(col(\"subset_3rds\") == True)\n",
    "\n",
    "    # Subset counts per cluster/station\n",
    "    subset_counts = subset_df.groupBy(\"cluster\", \"station_num\").agg(F.count(\"*\").alias(\"subset_count\"))\n",
    "\n",
    "    # General counts per cluster/station\n",
    "    general_counts = batch_with_cluster_info.groupBy(\"cluster\", \"station_num\").agg(F.count(\"*\").alias(\"general_count\"))\n",
    "\n",
    "    # Update cumulative counts (subset)\n",
    "    for row in subset_counts.collect():\n",
    "        key = (row['cluster'], row['station_num'])\n",
    "        cumulative_subset_counts[key] = cumulative_subset_counts.get(key, 0) + row['subset_count']\n",
    "\n",
    "    # Update cumulative counts (general)\n",
    "    for row in general_counts.collect():\n",
    "        key = (row['cluster'], row['station_num'])\n",
    "        cumulative_general_counts[key] = cumulative_general_counts.get(key, 0) + row['general_count']\n",
    "\n",
    "    # Compute cumulative totals per cluster\n",
    "    cumulative_subset_totals = {}\n",
    "    cumulative_general_totals = {}\n",
    "\n",
    "    for (cluster, _), count in cumulative_subset_counts.items():\n",
    "        cumulative_subset_totals[cluster] = cumulative_subset_totals.get(cluster, 0) + count\n",
    "\n",
    "    for (cluster, _), count in cumulative_general_counts.items():\n",
    "        cumulative_general_totals[cluster] = cumulative_general_totals.get(cluster, 0) + count\n",
    "\n",
    "    # Build cumulative diff_rank list\n",
    "    rows = []\n",
    "    for (cluster, station) in cumulative_subset_counts:\n",
    "        subset_count = cumulative_subset_counts[(cluster, station)]\n",
    "        general_count = cumulative_general_counts.get((cluster, station), 0)\n",
    "\n",
    "        subset_total = cumulative_subset_totals[cluster]\n",
    "        general_total = cumulative_general_totals.get(cluster, 0)\n",
    "\n",
    "        subset_pct = (subset_count / subset_total) * 100 if subset_total else 0\n",
    "        general_pct = (general_count / general_total) * 100 if general_total else 0\n",
    "\n",
    "        diff = subset_pct - general_pct\n",
    "        rows.append((cluster, station, diff))\n",
    "\n",
    "    # Convert to DataFrame\n",
    "    diff_rank_df = spark.createDataFrame(rows, [\"cluster\", \"station_num\", \"diff_rank\"])\n",
    "\n",
    "    # Top 7 stations per cluster by cumulative diff_rank\n",
    "    window_spec = Window.partitionBy(\"cluster\").orderBy(col(\"diff_rank\").desc())\n",
    "    top_diff_rank = diff_rank_df.withColumn(\"rank\", rank().over(window_spec)) \\\n",
    "        .filter(col(\"rank\") <= 7) \\\n",
    "        .select(\"cluster\", \"station_num\", \"diff_rank\") \\\n",
    "        .orderBy(\"cluster\", col(\"diff_rank\").desc())\n",
    "\n",
    "    print(f\"Top Stations per Cluster by cumulative diff_rank (3rds subset) - Batch {batch_count}:\")\n",
    "    top_diff_rank.show(n=max_rows, truncate=False)\n",
    "\n",
    "    if batch_count >= MIN_BATCHES_TO_PROCESS:\n",
    "        try:\n",
    "            query.stop()\n",
    "        except Exception as e:\n",
    "            pass\n",
    "\n",
    "\n",
    "# Start the streaming query\n",
    "query = streaming_df.writeStream \\\n",
    "    .outputMode(\"append\") \\\n",
    "    .foreachBatch(process_batch) \\\n",
    "    .start()\n",
    "\n",
    "print(\"Streaming query started. Waiting for batches...\")\n",
    "\n",
    "query.awaitTermination()\n",
    "print(\"Streaming process complete.\")"
   ]
  }
 ],
 "metadata": {
  "application/vnd.databricks.v1+notebook": {
   "computePreferences": null,
   "dashboards": [],
   "environmentMetadata": null,
   "inputWidgetPreferences": null,
   "language": "python",
   "notebookMetadata": {
    "pythonIndentUnit": 4
   },
   "notebookName": "PROJECT2_WET_212536924_322836180",
   "widgets": {}
  },
  "language_info": {
   "name": "python"
  }
 },
 "nbformat": 4,
 "nbformat_minor": 0
}
