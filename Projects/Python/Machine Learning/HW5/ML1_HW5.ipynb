{
  "nbformat": 4,
  "nbformat_minor": 0,
  "metadata": {
    "colab": {
      "provenance": [],
      "toc_visible": true
    },
    "kernelspec": {
      "name": "python3",
      "display_name": "Python 3"
    },
    "language_info": {
      "name": "python"
    }
  },
  "cells": [
    {
      "cell_type": "markdown",
      "source": [
        "# **Question 1**"
      ],
      "metadata": {
        "id": "qVX8m8IeOo1D"
      }
    },
    {
      "cell_type": "markdown",
      "source": [
        "**Section A**"
      ],
      "metadata": {
        "id": "KdpO_9YeOq-v"
      }
    },
    {
      "cell_type": "markdown",
      "source": [
        "We assume that $WL(\\cdot,\\cdot)$ is a weak learner with some $\\gamma \\in (0, \\frac12)$. Formally: Given training set $S$, for any possible distribution $D$ of weights of each given point in the train set, we assume that the $WL$'s loss satisfies:\n",
        "\n",
        "$L_D(S) \\le \\frac12 - \\gamma$\n",
        "\n",
        "In simpler terms, since a loss of $\\frac12$ is possible with a random dummy model, then we only use models that are significantly better than that for some constant $\\gamma \\in (0, \\frac12)$ for any distribution of weighting of the data."
      ],
      "metadata": {
        "id": "GKOTe-tCO2o4"
      }
    },
    {
      "cell_type": "markdown",
      "source": [
        "Initially, we give every point in the train set an equal weight in the distribution.\n",
        "\n",
        "Each step in the iteration performs the following:\n",
        "\n",
        "1.   Invoke a Weak Learner on the current train set and distribution, noted by $h_t$.\n",
        "2.   Calculate the weak learner's weighted loss. We store it in a variable $\\varepsilon_t$.\n",
        "3.   Calculate an updated weighting that has an inverted correlation with $\\varepsilon_t$, meaning that as the loss grows smaller, the weight grows larger. We store it in a variable $w_t$.\n",
        "4.   Update the distribution, giving more weight to wrongly labeled points and less weight to correct ones while maintaining a sum of $1$.\n",
        "\n",
        "We perform this loop a constant $T$ times. Finally, the output is aggregated as the sign of the sum of $w_th_t(x)$, both being defined in the loop."
      ],
      "metadata": {
        "id": "AkIS81p8SwHY"
      }
    },
    {
      "cell_type": "markdown",
      "source": [
        "**Section B**"
      ],
      "metadata": {
        "id": "V62I1rP7YknT"
      }
    },
    {
      "cell_type": "markdown",
      "source": [
        "Denote $I = \\{i| 1 \\le i \\le m, y_i \\ne h_t(x_i) \\}, \\bar I = \\{i| 1 \\le i \\le m, y_i = h_t(x_i)\\}$. It then holds that:\n",
        "\n",
        "$\\forall i \\in I: y_i = -h_t(x_i) \\Rightarrow -y_ih_t(x_i) = 1$\n",
        "\n",
        "$\\forall i \\in \\bar I: y_i = h_t(x_i) \\Rightarrow y_ih_t(x_i) = 1$\n",
        "\n",
        "We further note that\n",
        "\n",
        "$\\varepsilon_t = \\sum_{i=1}^m D_i^{(t)}1_{[y_i \\ne h_t(x_i)]} = \\sum_{i \\in I} D_i^{(t)}$\n",
        "\n",
        "And\n",
        "\n",
        "$1 - \\varepsilon_t = \\sum_{i=1}^m D_i^{(t)}1_{[y_i \\ne h_t(x_i)]} = \\sum_{i \\in \\bar I} D_i^{(t)}$\n",
        "\n",
        "Giving:\n",
        "\n",
        "$\\varepsilon_t \\cdot e^{w_t} + (1-\\varepsilon_t)e^{-w_t} =\n",
        "\\sum_{i \\in I} D_i^{(t)} e^{w_t} + \\sum_{i \\in \\bar I} D_i^{(t)} e^{-w_t} =\n",
        "\\sum_{i \\in I} D_i^{(t)} e^{-w_ty_ih_t(x_i)} + \\sum_{i \\in \\bar I} D_i^{(t)} e^{-w_ty_ih_t(x_i)}$\n",
        "\n",
        "Which gives:\n",
        "\n",
        "$\\varepsilon_t \\cdot e^{w_t} + (1-\\varepsilon_t)e^{-w_t} = \\sum_{i=1}^m D_i^{(t)} e^{-w_ty_ih_t(x_i)}$\n",
        "\n",
        "This is the left side of the required equation. Now we'll show the right side:\n",
        "\n",
        "\n",
        "$\\varepsilon_t \\cdot e^{w_t} + (1-\\varepsilon_t)e^{-w_t} =\n",
        "\\varepsilon_t \\cdot e^{\\frac12\\log(\\frac1{\\varepsilon_t}-1)} + (1-\\varepsilon_t)e^{-\\frac12\\log(\\frac1{\\varepsilon_t}-1)} =\n",
        "\\varepsilon_t\\sqrt{\\frac1{\\varepsilon_t}-1}+(1-\\varepsilon_t)\\frac1{\\sqrt{\\frac1{\\varepsilon_t}-1}}$\n",
        "\n",
        "Which gives:\n",
        "\n",
        "$\\sqrt{\\varepsilon_t(1-\\varepsilon_t)} +(1-\\varepsilon_t)\\sqrt{\\frac{\\varepsilon_t}{1-\\varepsilon_t}} = \\sqrt{\\varepsilon_t(1-\\varepsilon_t)} + \\sqrt{\\varepsilon_t(1-\\varepsilon_t)} = 2\\sqrt{\\varepsilon_t(1-\\varepsilon_t)}$\n",
        "\n",
        "As required."
      ],
      "metadata": {
        "id": "8hxz3Fe6Ym7i"
      }
    },
    {
      "cell_type": "markdown",
      "source": [
        "**Section C**"
      ],
      "metadata": {
        "id": "XBdpXamVqdDd"
      }
    },
    {
      "cell_type": "markdown",
      "source": [
        "Part 1:\n",
        "\n",
        "Let $i \\in [m]$. If $y_i = \\hat h(x_i)$, then $1_{[y_i \\ne \\hat h(x_i)]} = 0 ≤ e^x$ for any $x \\in \\mathbb R$, and specifically for $x = -y_if_T(x_i)$.\n",
        "\n",
        "Otherwise, $y_i \\ne \\hat h(x_i)$. In this case,\n",
        "\n",
        "$y_i = -\\text{sign}(f_T(x_i)) \\Rightarrow -y_if_T(x_i) > 0 \\Rightarrow e^{-y_if_T(x_i)} > e^0 = 1$\n",
        "\n",
        "Where the inequality holds from the monotonicity of $e^x$, giving the required inequality:\n",
        "\n",
        "$1_{[y_i \\ne \\hat h(x_i)]} ≤e^{-y_if_T(x_i)}$\n",
        "\n",
        "For any $i \\in [m]$.\n",
        "\n",
        "It immediately follows by definition that\n",
        "\n",
        "$L_s(\\hat h) = \\frac1m\\sum_{i=1}^m1_{[y_i \\ne \\hat h(x_i)]} \\le\n",
        "\\frac1m\\sum_{i=1}^me^{-y_if_T(x_i)} = z_t$"
      ],
      "metadata": {
        "id": "yiWeBqz3qi8H"
      }
    },
    {
      "cell_type": "markdown",
      "source": [
        "Part 2:\n",
        "\n",
        "We'll prove, using induction, that for any $t \\in \\mathbb N, i \\in [m]$,\n",
        "\n",
        "$D_i^{(t)} = \\frac{e^{-y_if_{t-1}(x_i)}}{\\sum_{j=1}^me^{-y_jf_{t-1}(x_j)}} = \\frac1{Z^{(t)}}e^{-y_if_{t-1}(x_i)}$\n",
        "\n",
        "Which leads to $D_i^{(t)} \\propto e^{-y_if_{t-1}(x_i)}$, where we also know the constant (needed for Part 3).\n",
        "\n",
        "\n",
        "Induction Base: $t = 1$.\n",
        "\n",
        "$D_i^{(1)} = \\frac1m, e^{-y_if_0(x_i)} = e^{-y_i \\cdot 0} = 1$\n",
        "\n",
        "And so we get:\n",
        "\n",
        "$D_i^{(1)} = \\frac1m = \\frac{y^{-y_i\\cdot 0}}{\\sum_{j=1}^me^{-y_j \\cdot 0}} = \\frac{e^{-y_i \\cdot f_0(x_i)}}{\\sum_{j=1}^me^{-y_jf_0(x_j)}}$\n",
        "\n",
        "Induction Hypothesis: $D_i^{(t)} = \\frac{e^{-y_if_{t-1}(x_i)}}{\\sum_{j=1}^me^{-y_jf_{t-1}(x_j)}}$.\n",
        "\n",
        "Induction Step: Prove for $t+1$.\n",
        "\n",
        "By the update rule, the following holds:\n",
        "\n",
        "$D_i^{(t+1)} = \\frac{D_i^{(t)}e^{-w_ty_ih_t(x_i)}}{\\sum_{j=1}^mD_j^{(t)}e^{-w_ty_jh_t(x_j)}} \\overset{Ind.Hyp}{=} \\frac{e^{-y_if_{t-1}(x_i)}e^{-w_ty_ih_t(x_i)}}{\\sum_{k=1}^me^{-y_kf_{t-1}(x_k)} \\cdot \\sum_{j=1}^m\\frac{e^{-y_jf_{t-1}(x_j)}}{\\sum_{k=1}^me^{-y_kf_{t-1}(x_k)}}e^{-w_ty_jh_t(x_j)}}$\n",
        "\n",
        "Continuing:\n",
        "\n",
        "$\\frac{e^{-y_if_{t-1}(x_i)}e^{-w_ty_ih_t(x_i)}}{\\sum_{j=1}^me^{-y_jf_{t-1}(x_j)}e^{-w_ty_jh_t(x_j)}} =\n",
        "\\frac{e^{-y_i\\sum_{p=1}^{t-1}w_ph_p(x_i)}e^{-w_ty_ih_t(x_i)}}{\\sum_{j=1}^me^{-y_j\\sum_{p=1}^{t-1}w_ph_p(x_j)}e^{-w_ty_jh_t(x_j)}} =\n",
        "\\frac{e^{-y_i\\sum_{p=1}^{t}w_ph_p(x_i)}}{\\sum_{j=1}^me^{-y_j\\sum_{p=1}^{t}w_ph_p(x_j)}}$\n",
        "\n",
        "Which gives the required:\n",
        "\n",
        "$D_i^{(t+1)} = \\frac{e^{-y_if_t(x_i)}}{\\sum_{j=1}^me^{-y_jf_t(x_j)}}$\n",
        "\n",
        "Therefore the induction holds, and we have shown both facts: First, $D_i^{(t)} \\propto e^{-y_if_{t-1}(x_i)}$, and also the specific constant under which it holds."
      ],
      "metadata": {
        "id": "VIafb_bDuvOv"
      }
    },
    {
      "cell_type": "markdown",
      "source": [
        "Part 3:\n",
        "\n",
        "Let $t \\in \\mathbb N$.\n",
        "\n",
        "$\\frac{z_t}{z_{t-1}} =\n",
        " \\frac{\\sum_{i=1}^me^{-y_if_t(x_i)}}{\\sum_{i=1}^me^{-y_if_{t-1}(x_i)}} =\n",
        " \\frac{\\sum_{i=1}^me^{-y_i\\sum_{p=1}^{t-1}w_ph_p(x_i) - y_iw_th_t(x_i)}}{\\sum_{i=1}^me^{-y_if_{t-1}(x_i)}} =\n",
        " \\sum_{i=1}^m\\frac{e^{-y_if_{t-1}(x_i)}}{\\sum_{j=1}^me^{-y_jf_{t-1}(x_j)}}e^{-y_iw_th_t(x_i)}$\n",
        "\n",
        "From Part 2: $D_i^{(t)} = \\frac{e^{-y_if_{t-1}(x_i)}}{\\sum_{j=1}^me^{-y_jf_{t-1}(x_j)}}$.\n",
        "\n",
        "Giving the required\n",
        "\n",
        "$\\frac{z_t}{z_{t-1}} = \\sum_{i=1}^mD_i^{(t)}e^{-y_iw_th_t(x_i)} \\overset{\\text{Section B}}{=} 2\\sqrt{\\varepsilon_t(1-\\varepsilon_t)}$"
      ],
      "metadata": {
        "id": "uJyHTcjyzGkb"
      }
    },
    {
      "cell_type": "markdown",
      "source": [
        "Part 4:\n",
        "\n",
        "From these 3 combined facts: The monotonicity of square root on the positive x-axis, the monotonicity of $g(a) = a(1-a)$ and $\\varepsilon_t \\le \\frac12 - \\gamma$, we get the following:\n",
        "\n",
        "$2\\sqrt{\\varepsilon_t(1-\\varepsilon_t)} \\le 2\\sqrt{(\\frac12-\\gamma)(\\frac12+\\gamma)}$\n",
        "\n",
        "Now, we can use $1-a \\le e^{-a}$ to obtain the following:\n",
        "\n",
        "$2\\sqrt{(\\frac12-\\gamma)(\\frac12+\\gamma)} = \\sqrt{1-4\\gamma^2} \\le (e^{-4\\gamma^2})^{\\frac12} = e^{-2\\gamma^2}$\n",
        "\n",
        "Concluding, we have shown\n",
        "\n",
        "$2\\sqrt{\\varepsilon_t(1-\\varepsilon_t)} \\le e^{-2\\gamma^2}$\n",
        "\n",
        "As required."
      ],
      "metadata": {
        "id": "ZrEqEdDeTgeN"
      }
    },
    {
      "cell_type": "markdown",
      "source": [
        "$\\prod_{t=1}^T\\frac{z_t}{z_{t-1}} = \\frac{z_1}{z_0} \\cdot \\frac{z_2}{z_1} \\cdot \\dots \\cdot \\frac{z_T}{z_{T-1}} = \\frac{z_T}{z_0} = \\frac{z_T}{\\frac1m\\sum_{i=1}^me^{-y_i \\cdot 0}} = \\frac{z_T}{\\frac1m \\cdot m} = z_T$\n",
        "\n",
        "Which gives:\n",
        "\n",
        "$L_s(\\hat h) \\overset{\\text{Section A}}{\\le} z_T = \\prod_{t=1}^T\\frac{z_t}{z_{t-1}}$\n",
        "\n",
        "And, by the inequality we've just shown,\n",
        "\n",
        "$L_s(\\hat h) \\le \\prod_{t=1}^T \\frac{z_t}{z_{t-1}} \\le \\prod_{t=1}^Te^{-2\\gamma^2} = e^{-2\\gamma^2 T}$"
      ],
      "metadata": {
        "id": "rhMoSN9XY7wo"
      }
    },
    {
      "cell_type": "markdown",
      "source": [
        "**Section D**"
      ],
      "metadata": {
        "id": "g4Ez1vGUZVUK"
      }
    },
    {
      "cell_type": "markdown",
      "source": [
        "We know that the loss function $L_s$ is a multiplier of $\\frac1m$, by some constant $c \\in [m]$, formally it is $c = \\sum_{i=1}^m1_{[y_i \\ne h_s(x_i)]} \\in [m]$.\n",
        "\n",
        "Thus, in order for the loss to be $0$, we want the minimal $T$ such that\n",
        "\n",
        "$L_s(\\hat h) < \\frac1m$\n",
        "\n",
        "We'll use the inequality we've just shown in section C:\n",
        "\n",
        "$e^{-2\\gamma^2T} < \\frac1m \\Rightarrow -2\\gamma^2T > \\log(\\frac1m) = -\\log m$\n",
        "\n",
        "The inequality becomes:\n",
        "\n",
        "$T \\ge \\frac{\\log m}{2\\gamma^2}$\n",
        "\n",
        "But, because $T \\in \\mathbb N$, then the minimal $T$ that gives train error $0$ is:\n",
        "\n",
        "$T = \\lfloor 1+\\frac{\\log m}{2\\gamma^2} \\rfloor$"
      ],
      "metadata": {
        "id": "efOhCHvRZb8k"
      }
    },
    {
      "cell_type": "markdown",
      "source": [
        "# **Question 2**"
      ],
      "metadata": {
        "id": "nCeEiE2Y3_wa"
      }
    },
    {
      "cell_type": "code",
      "execution_count": null,
      "metadata": {
        "id": "Cd2W5hlL2ybI"
      },
      "outputs": [],
      "source": [
        "import pandas as pd\n",
        "from sklearn.model_selection import train_test_split\n",
        "from sklearn.tree import DecisionTreeClassifier\n",
        "from sklearn.ensemble import RandomForestClassifier\n",
        "import matplotlib.pyplot as plt"
      ]
    },
    {
      "cell_type": "code",
      "source": [
        "df = pd.read_csv('winequality-red.csv', delimiter=';')"
      ],
      "metadata": {
        "id": "CFFB2lGD4D4K"
      },
      "execution_count": null,
      "outputs": []
    },
    {
      "cell_type": "code",
      "source": [
        "df['quality'] = (df['quality'] > 5).astype(int)"
      ],
      "metadata": {
        "id": "10QU9KSb4doj"
      },
      "execution_count": null,
      "outputs": []
    },
    {
      "cell_type": "code",
      "source": [
        "y = df['quality']\n",
        "X = df.drop(columns='quality')"
      ],
      "metadata": {
        "id": "TWEANeqG48fx"
      },
      "execution_count": null,
      "outputs": []
    },
    {
      "cell_type": "code",
      "source": [
        "X_train, X_test, y_train, y_test = train_test_split(X, y, test_size=0.40, random_state=42)"
      ],
      "metadata": {
        "id": "b5hIOY_l5KUY"
      },
      "execution_count": null,
      "outputs": []
    },
    {
      "cell_type": "markdown",
      "source": [
        "**Section A**"
      ],
      "metadata": {
        "id": "Yvc7yDxN5QKI"
      }
    },
    {
      "cell_type": "code",
      "source": [
        "def accuracy(pred, true):\n",
        "  correct = (true == pred).sum()\n",
        "  total = len(true)\n",
        "  return correct / total"
      ],
      "metadata": {
        "id": "M6bh9bCG6aU-"
      },
      "execution_count": null,
      "outputs": []
    },
    {
      "cell_type": "code",
      "source": [
        "def check_accuracies(model, X_train, y_train, X_test, y_test):\n",
        "  \"\"\"\n",
        "  Fits model on train set, and returns prediction accuracy on both\n",
        "  Train set and Test set\n",
        "  \"\"\"\n",
        "  model.fit(X_train, y_train)\n",
        "\n",
        "  train_pred = model.predict(X_train)\n",
        "  test_pred = model.predict(X_test)\n",
        "\n",
        "  train_acc = accuracy(train_pred, y_train)\n",
        "  test_acc = accuracy(test_pred, y_test)\n",
        "\n",
        "  return train_acc, test_acc"
      ],
      "metadata": {
        "id": "EQYaXL8Z7cVN"
      },
      "execution_count": null,
      "outputs": []
    },
    {
      "cell_type": "code",
      "source": [
        "model = DecisionTreeClassifier(max_depth=12, random_state=0)\n",
        "\n",
        "train_acc, test_acc = check_accuracies(model, X_train, y_train, X_test, y_test)\n",
        "\n",
        "print(f'Train Accuracy: {train_acc}, Test Accuracy: {test_acc}')"
      ],
      "metadata": {
        "colab": {
          "base_uri": "https://localhost:8080/"
        },
        "id": "HARavRZ051zl",
        "outputId": "202373d5-4b6c-42a4-82cc-e067e1af52db"
      },
      "execution_count": null,
      "outputs": [
        {
          "output_type": "stream",
          "name": "stdout",
          "text": [
            "Train Accuracy: 0.9895724713242962, Test Accuracy: 0.728125\n"
          ]
        }
      ]
    },
    {
      "cell_type": "markdown",
      "source": [
        "**Section B**"
      ],
      "metadata": {
        "id": "RfvNmDQn7UcP"
      }
    },
    {
      "cell_type": "code",
      "source": [
        "test_accs = []\n",
        "\n",
        "for n in range(1, 101):\n",
        "  model = RandomForestClassifier(n_estimators=n, max_depth=12, random_state=0)\n",
        "  train_acc, test_acc = check_accuracies(model, X_train, y_train, X_test, y_test)\n",
        "  test_accs.append(test_acc)\n",
        "\n",
        "print(f'Train Accuracy: {train_acc}, Test Accuracy: {test_acc}')\n",
        "plt.title('Random Forest Test Accuracy by n_estimators Value')\n",
        "plt.plot(test_accs, label='Test Accuracy')\n",
        "plt.xlabel('n_estimators Value')\n",
        "plt.ylabel('Accuracy (%)')\n",
        "plt.xticks(range(0, 101, 10))\n",
        "\n",
        "plt.legend()\n",
        "plt.show()"
      ],
      "metadata": {
        "colab": {
          "base_uri": "https://localhost:8080/",
          "height": 489
        },
        "id": "uPZuTYRA7V7L",
        "outputId": "5ea42f2d-8ab3-47a6-cac7-f008d647badc"
      },
      "execution_count": null,
      "outputs": [
        {
          "output_type": "stream",
          "name": "stdout",
          "text": [
            "Train Accuracy: 0.9989572471324296, Test Accuracy: 0.8015625\n"
          ]
        },
        {
          "output_type": "display_data",
          "data": {
            "text/plain": [
              "<Figure size 640x480 with 1 Axes>"
            ],
            "image/png": "[encoded data removed]"
          },
          "metadata": {}
        }
      ]
    },
    {
      "cell_type": "markdown",
      "source": [
        "**Section C**"
      ],
      "metadata": {
        "id": "4auzocty9Y6E"
      }
    },
    {
      "cell_type": "code",
      "source": [
        "test_accs = []\n",
        "for n in range(1, 101):\n",
        "  model = RandomForestClassifier(n_estimators=n, max_depth=12, random_state=0, max_features=None)\n",
        "  _, test_acc = check_accuracies(model, X_train, y_train, X_test, y_test)\n",
        "  test_accs.append(test_acc)\n",
        "\n",
        "print(f'Train Accuracy: {train_acc}, Test Accuracy: {test_acc}')\n",
        "plt.title('Random Forest Full Column Test Accuracy by n_estimators Value')\n",
        "plt.plot(test_accs, label='Test Accuracy')\n",
        "plt.xlabel('n_estimators Value')\n",
        "plt.ylabel('Accuracy (%)')\n",
        "plt.xticks(range(0, 101, 10))\n",
        "\n",
        "plt.legend()\n",
        "plt.show()"
      ],
      "metadata": {
        "colab": {
          "base_uri": "https://localhost:8080/",
          "height": 489
        },
        "id": "Tl8NAki29aSB",
        "outputId": "c4912e41-5b41-4562-e8f3-3a06cf8fc399"
      },
      "execution_count": null,
      "outputs": [
        {
          "output_type": "stream",
          "name": "stdout",
          "text": [
            "Train Accuracy: 0.9989572471324296, Test Accuracy: 0.7875\n"
          ]
        },
        {
          "output_type": "display_data",
          "data": {
            "text/plain": [
              "<Figure size 640x480 with 1 Axes>"
            ],
            "image/png": "[encoded data removed]"
          },
          "metadata": {}
        }
      ]
    },
    {
      "cell_type": "markdown",
      "source": [
        "**Section D**"
      ],
      "metadata": {
        "id": "a7vmQPLP-waL"
      }
    },
    {
      "cell_type": "markdown",
      "source": [
        "1. The model in C (Random Forest) performs better than the model in B (Decision Tree), reaching 80% accuracy compared to 72%. This is expected: a DecisionTree is prone to overfitting because it only learns a single path through the data, compared to Random Forest that aggregates the predictions of many decision trees (In this case 100), each trained on a different subset of the data.\n",
        "\n",
        "2. By comparing the graphs, it seems that the model that uses all features performs worse than the model that uses a random subset of features. This can happen when some features are irrelevant or noisy - they add randomness without contributing meaningful information, which can confuse the model. By using only a random subset of features, the model is less likely to rely on those unhelpful features."
      ],
      "metadata": {
        "id": "2ejVRN3y-yKT"
      }
    },
    {
      "cell_type": "markdown",
      "source": [
        "**Section E**"
      ],
      "metadata": {
        "id": "P6XHmhzeCNzC"
      }
    },
    {
      "cell_type": "markdown",
      "source": [
        "a. The first split seems better, because both subsets contain a mix of the two classes, preserving class diversity in each. This helps the model generalize better during training and evaluation and avoids overfitting."
      ],
      "metadata": {
        "id": "mL0x7_uPD3tm"
      }
    },
    {
      "cell_type": "markdown",
      "source": [
        "b. Since we choose decision tree based on gain, we'll add it to our calculations.\n",
        "\n",
        "Split 1:\n",
        "\n",
        "$H_{\\text{Entropy}} = -\\frac14\\log(\\frac14)-\\frac34\\log(\\frac34) = 0.5623$\n",
        "\n",
        "$H_{\\text{Gini}} = 1 - \\frac14^2 - \\frac34^2 = \\frac38 = 0.375$\n",
        "\n",
        "$H_{\\text{M.Error}} = 1 -\\frac34 = 0.25$\n",
        "\n",
        "All these Impurity measurements are identical across both regions, and therefore they are this split's gain as well.\n",
        "\n",
        "$G_{\\text{Entropy}} = 0.5623$\n",
        "\n",
        "$G_{\\text{Gini}} = 0.375$\n",
        "\n",
        "$G_{\\text{M.Error}} = 0.25$"
      ],
      "metadata": {
        "id": "y9n-2LplFWup"
      }
    },
    {
      "cell_type": "markdown",
      "source": [
        "Split 2:\n",
        "\n",
        "Left Hand Subset:\n",
        "\n",
        "$H_{\\text{Entropy}} = -(\\frac13\\log(\\frac13) + \\frac23\\log(\\frac23)) = 0.6365$\n",
        "\n",
        "$H_{\\text{Gini}} = 1 - \\frac13^2 - \\frac23^2 = \\frac49 = 0.4444$\n",
        "\n",
        "$H_{\\text{M.Error}} = 1 - \\frac23 = \\frac13 = 0.3333$\n",
        "\n",
        "This time, these are not identical across both regions.\n",
        "\n",
        "Right Hand Subset:\n",
        "\n",
        "$H_{\\text{Entropy}} = -1 \\log 1 - 0 \\log 0 = 0 + 0 \\cdot \\infty = 0\\cdot \\infty$\n",
        "\n",
        "We'll define this as 0.\n",
        "\n",
        "$H_{\\text{Gini}} = 1 - 1^2 - 0^2 = 0$\n",
        "\n",
        "$H_{\\text{M.Error}} = 1 - 1 = 0$\n",
        "\n",
        "Giving gains:\n",
        "\n",
        "$G_{\\text{Entropy}} = \\frac34 \\cdot 0.6365 + \\frac14\\cdot 0 = 0.4773$\n",
        "\n",
        "$G_{\\text{Gini}} = \\frac34 \\cdot \\frac49 + \\frac14 \\cdot 0 = \\frac13 = 0.3333$\n",
        "\n",
        "$G_{\\text{M.Error}} = \\frac34 \\cdot \\frac13 + \\frac14 \\cdot 0 = \\frac14 = 0.25$"
      ],
      "metadata": {
        "id": "WFC6IYHZJqqe"
      }
    },
    {
      "cell_type": "markdown",
      "source": [
        "While the misclassification error rate happens to be equal across both splits, it does not capture the class diversity issue we've described in section A. Therefore, it is out suggestion that we disregard misclassification error as a measurement for our decision tree building, and we rely on the other measures."
      ],
      "metadata": {
        "id": "UioZhwIXKig9"
      }
    },
    {
      "cell_type": "markdown",
      "source": [
        "# **Question 3**"
      ],
      "metadata": {
        "id": "jnoZjWbebiLh"
      }
    },
    {
      "cell_type": "markdown",
      "source": [
        "**Section A**"
      ],
      "metadata": {
        "id": "HEfbJapXbkKa"
      }
    },
    {
      "cell_type": "markdown",
      "source": [
        "We can use the K-Means algorithm to estimate the optimal clustering into 100 groups. We will treat the pictures as the data points $x_1, x_2, \\dots, x_{m}$\n",
        "and their users as the clusters $C_1, C_2, \\dots, C_{100}$.\n",
        "\n",
        "###Algorithm:\n",
        "\n",
        "**1. Inialization**\n",
        "\n",
        "  First, We randomly choose 100 centroids $\\mu_1, \\mu_2, \\dots, \\mu_{100}$.\n",
        "\n",
        "**2. Iterations**\n",
        "\n",
        "   Repeat until convergence:\n",
        "\n",
        "   (i) Cluster Assignment Step (assign each observation to the closest cluster):\n",
        "\n",
        "   compute,\n",
        "    $$\n",
        "    \\forall i \\in [m], \\quad C(i) = \\arg\\min_{j \\in [100]} \\|x_i - \\mu_j\\|\n",
        "    $$   \n",
        "   \n",
        "   (ii) Centroid Update Step (update each cluster’s centroid to be the mean of its assigned points):\n",
        "  $$\n",
        "  \\mu_j = \\frac{1}{|C_j|}\\sum_{x\\in C_j}{x}\n",
        "  $$\n",
        "\n",
        "\n",
        "  ### Remarks:\n",
        "\n",
        "- The algorithm is guaranteed to converge (since the value of the objective function—which is the weighted average of the within-cluster variances—can only decrease up to a certain limit).\n",
        "\n",
        "\n",
        "- The algorithm performs **iterative updates** of cluster assignments and centroids until convergence to a **local minimum**.\n",
        "\n",
        "- It reduces the **within-cluster variance**, i.e., the total squared distance between each point and its cluster centroid.\n",
        "\n",
        "- The process is repeated until the assignments no longer change (or until a predefined threshold).\n",
        "\n",
        "In this method, we perform an iterative update of the partitioning and the cluster centroids.\n",
        "Each observation is assigned to only one cluster—specifically, the one whose centroid is closest to it.\n",
        "The centroids are then updated by computing the mean of the points assigned to each cluster.\n",
        "\n",
        "\n",
        "\n",
        "\n",
        "\n",
        "\n",
        "\n"
      ],
      "metadata": {
        "id": "Yr83srG6cZqw"
      }
    },
    {
      "cell_type": "markdown",
      "source": [
        "**Section B**"
      ],
      "metadata": {
        "id": "8N15BTk_ijXE"
      }
    },
    {
      "cell_type": "markdown",
      "source": [
        "The property states that the distance between two images of the same user is not greater than the distance between two images of different users.\n",
        "So in effect, we now have a metric that better fits our data, and so we can update step (i) of the algotithm by using this metric\n",
        "$d(\\cdot,\\cdot)$  instead of the standard Euclidean norm:\n",
        "$\\forall i \\in [m], \\quad C(i) = \\arg\\min_{j \\in [100]} \\|x_i - \\mu_j\\|$\n",
        "    "
      ],
      "metadata": {
        "id": "4l6gFGrJilyN"
      }
    },
    {
      "cell_type": "markdown",
      "source": [
        "**Section C**"
      ],
      "metadata": {
        "id": "GXSoxz5WNtjx"
      }
    },
    {
      "cell_type": "markdown",
      "source": [
        "Let's denote $\\lambda_j = P(z_i = j)$\n",
        "\n",
        "Therefore, the unknown parameters are:\n",
        "\n",
        "$$\n",
        "\\theta := (\\sigma_1^2, \\sigma_2^2, \\lambda_1, \\ldots, \\lambda_{100})\n",
        "$$\n",
        "\n",
        "\n",
        "\n",
        "The propability of a Single Observation is:\n",
        "\n",
        "$$\n",
        "P_\\theta(x_i) = \\sum_{j=1}^{100} P_\\theta(x_i, z_i = j)\n",
        "= \\sum_{j=1}^{100} P_\\theta(z_i = j) \\cdot P_\\theta(x_i \\mid z_i = j)\n",
        "$$\n",
        "\n",
        "$$\n",
        "= \\sum_{j=1}^{2} \\frac{\\lambda_j}{\\sqrt{2\\pi\\sigma_j^2}} \\cdot e^{-\\frac{(x_i - j)^2}{2\\sigma_j^2}}\n",
        "+ \\sum_{j=3}^{100} \\frac{\\lambda_j}{j} \\cdot e^{-\\frac{x_i}{j}} \\cdot \\mathbf{1}\\{x_i \\geq 0\\}\n",
        "$$\n",
        "\n",
        "Therfore the likelihood of All Observatios is:\n",
        "\n",
        "$$\n",
        "L(\\theta) = \\prod_{i=1}^{m} P_\\theta(x_i)\n",
        "$$\n",
        "\n",
        "Then, Log-Likelihood of All Observations:\n",
        "\n",
        "$$\n",
        "\\ell(\\theta) = \\log(L(\\theta)) = \\sum_{i=1}^{m} \\log P_\\theta(x_i)\n",
        "$$\n",
        "\n",
        "We get that:\n",
        "\n",
        "$$\n",
        "\\ell(\\theta) = \\sum_{i=1}^{m} \\log \\left(\n",
        "\\sum_{j=1}^{2} \\frac{\\lambda_j}{\\sqrt{2\\pi\\sigma_j^2}} \\cdot e^{-\\frac{(x_i - j)^2}{2\\sigma_j^2}}\n",
        "+ \\sum_{j=3}^{100} \\frac{\\lambda_j}{j} \\cdot e^{-\\frac{x_i}{j}} \\cdot \\mathbf{1}\\{x_i \\geq 0\\}\n",
        "\\right)\n",
        "$$\n"
      ],
      "metadata": {
        "id": "N2l9ktK2NuVd"
      }
    },
    {
      "cell_type": "markdown",
      "source": [
        "**Section D**"
      ],
      "metadata": {
        "id": "E-ZXvz4sRjOs"
      }
    },
    {
      "cell_type": "markdown",
      "source": [
        "##EM algorithm\n",
        "\n",
        "**1. Inialization**\n",
        "     \n",
        "We initialize the parameters $\\theta$ arbitrarily but legal.  \n",
        "For example, let:\n",
        "\n",
        "$$\n",
        "\\lambda_1 = \\ldots = \\lambda_{100} = \\frac{1}{100}, \\quad \\sigma_1^2 = \\sigma_2^2 = 1\n",
        "$$\n",
        "\n",
        "**2. Iterations**  \n",
        "\n",
        "  for all $t\\geq0$ repeat until convergence:\n",
        "\n",
        "   - **E Step** :\n",
        "\n",
        "   Compute the posterior probabilities of each observation belonging to each cluster,\n",
        "\n",
        "$$\n",
        "\\forall i \\in [m],\\; j \\in [100]: \\quad q_{ij}^{(t)} = P_{\\theta^{(t)}}(z_i = j \\mid x_i) = \\frac{P_{\\theta^{(t)}}(x_i, z_i = j)}{P_{\\theta^{(t)}}(x_i)}\n",
        "$$\n",
        "\n",
        "  Where:\n",
        "\n",
        "$$\n",
        "P_{\\theta^{(t)}}(x_i, z_i = j) =\n",
        "\\begin{cases}\n",
        "\\frac{\\lambda_j^{(t)}}{\\sqrt{2\\pi{\\sigma_j^2}^{(t)}}} \\cdot e^{-\\frac{(x_i - j)^2}{2{\\sigma_j^2}^{(t)}}}, & j \\in \\{1, 2\\} \\\\\\\\[1em]\n",
        "\\frac{\\lambda_j^{(t)}}{j} \\cdot e^{-\\frac{x_i}{j}} \\cdot \\mathbf{1}\\{x_i \\ge 0\\}, & j \\in \\{3, \\ldots, 100\\}\n",
        "\\end{cases}\n",
        "$$\n",
        "\n",
        "And the denominator is:\n",
        "\n",
        "$$\n",
        "P_{\\theta^{(t)}}(x_i) = \\sum_{k=1}^{2} \\frac{\\lambda_k^{(t)}}{\\sqrt{2\\pi{\\sigma_k^2}^{(t)}}} \\cdot e^{-\\frac{(x_i - k)^2}{2{\\sigma_k^2}^{(t)}}}\n",
        "+ \\sum_{k=3}^{100} \\frac{\\lambda_k^{(t)}}{k} \\cdot e^{-\\frac{x_i}{k}} \\cdot \\mathbf{1}\\{x_i \\ge 0\\}\n",
        "$$\n",
        "\n",
        "- **M step** :\n",
        "\n",
        "Maximize the expected complete-data log-likelihood (with $\\quad q_{ij}$ found before in E step) :\n",
        "\n",
        "$$\n",
        "\\theta^{(t+1)} \\leftarrow \\arg\\max_\\theta \\sum_{i=1}^{m} \\sum_{j=1}^{100} q_{ij}^{(t)} \\log \\left(P_\\theta(x_i, z_i = j)\\right)\n",
        "$$\n",
        "\n",
        "With some algebra, this leads to the following updates:\n",
        "\n",
        "$$\n",
        "\\forall j \\in [100]: \\quad \\lambda_j^{(t+1)} \\leftarrow \\frac{1}{m} \\sum_{i=1}^{m} q_{ij}^{(t)}\n",
        "$$\n",
        "\n",
        "$$\n",
        "\\forall j \\in \\{1, 2\\}: \\quad {\\sigma_j^2}^{(t+1)} \\leftarrow \\frac{\\sum_{i=1}^{m} q_{ij}^{(t)} \\cdot (x_i - j)^2}{\\sum_{i=1}^{m} q_{ij}^{(t)}}\n",
        "$$\n",
        "   "
      ],
      "metadata": {
        "id": "5O-8QQPARk0b"
      }
    },
    {
      "cell_type": "markdown",
      "source": [
        "**Section E**"
      ],
      "metadata": {
        "id": "HHqsYdhSc_C7"
      }
    },
    {
      "cell_type": "markdown",
      "source": [
        "Let's denote $Y$ as the total number of pictures in every day.\n",
        "\n",
        "Now, we know from the given that: $\\lambda_j = \\frac{j}{Y}$\n",
        "\n",
        "Let's compute $Y$:\n",
        "$$\n",
        "Y = \\sum_{j=1}^{100} j = \\frac{100(100 + 1)}{2} = 5050\n",
        "$$\n",
        "\n",
        "Therefore we get:\n",
        " $$\n",
        " \\forall j \\in [100], \\quad \\lambda_j = \\frac{j}{5050}\n",
        " $$\n",
        "\n",
        "Because $\\lambda_j$ is contant while $q_{ij}$ is updated, only the E step will change.\n",
        "\n",
        "Note: The update of $\\sigma_j^2$ (M step) will remain the same.\n"
      ],
      "metadata": {
        "id": "i6GwwMFidBtv"
      }
    },
    {
      "cell_type": "markdown",
      "source": [
        "**Section F**"
      ],
      "metadata": {
        "id": "4IBRt0zCf7IG"
      }
    },
    {
      "cell_type": "markdown",
      "source": [
        "Assume the following model holds:\n",
        "\n",
        "$$\n",
        "x_i \\mid z_i = j \\sim \\mathcal{N}(\\mu_j, 1), \\quad \\lambda_j = \\frac{1}{100}\n",
        "$$\n",
        "\n",
        "Then for all $i \\in [m]$, we have:\n",
        "\n",
        "$$\n",
        "C(i) = \\arg\\min_j \\|x_i - \\mu_j\\|\n",
        "= \\arg\\max_j -\\frac{1}{2} \\|x_i - \\mu_j\\|^2\n",
        "= \\arg\\max_j e^{-\\frac{1}{2} \\|x_i - \\mu_j\\|^2}\n",
        "= \\arg\\max_j \\frac{1}{100\\sqrt{2\\pi}} e^{-\\frac{1}{2} \\|x_i - \\mu_j\\|^2}\n",
        "$$\n",
        "\n",
        "$$\n",
        "= \\arg\\max_j \\frac{\\lambda_j}{\\sqrt{2\\pi}} e^{-\\frac{1}{2} \\|x_i - \\mu_j\\|^2}\n",
        "= \\arg\\max_j P_\\theta(x_i, z_i = j)\n",
        "= \\arg\\max_j \\frac{P_\\theta(x_i, z_i = j)}{P_\\theta(x_i)}\n",
        "= \\arg\\max_j P_\\theta(z_i = j \\mid x_i)\n",
        "= \\arg\\max_j q_{ij}\n",
        "$$\n",
        "\n",
        "\n",
        "In other words, under the assumption of equal priors, the K-Means algorithm performs a **\"hard\" assignment** of each point to the cluster whose center is closest to it.  \n",
        "This is in contrast to the EM algorithm, which performs a **\"soft\" assignment** (i.e., probabilistic) of each point to each cluster, allowing a more flexible and expressive assignment.\n",
        "\n",
        "Therefore:\n",
        "\n",
        "- In K-Means, the cluster centers will be the **mean of the points** assigned to them (even though this is not guaranteed to be optimal).\n",
        "- In EM, the update of the cluster centers is weighted by the responsibility $q_{ij}$ of each point, i.e., points contribute proportionally to how likely they belong to each cluster.\n",
        "\n",
        "This allows the EM algorithm to better model soft assignments and often reach a more expressive clustering result.\n"
      ],
      "metadata": {
        "id": "Z-fHQhr_gCHx"
      }
    }
  ]
}